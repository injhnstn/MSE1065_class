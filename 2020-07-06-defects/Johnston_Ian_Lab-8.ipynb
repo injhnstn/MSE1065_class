{
 "cells": [
  {
   "cell_type": "markdown",
   "metadata": {},
   "source": [
    "# MSE1065\n",
    "## Lab 8- Defect Prediction\n"
   ]
  },
  {
   "cell_type": "markdown",
   "metadata": {},
   "source": [
    "### Load Dependencies"
   ]
  },
  {
   "cell_type": "code",
   "execution_count": 2,
   "metadata": {},
   "outputs": [],
   "source": [
    "# Base python\n",
    "import numpy as np\n",
    "import pandas as pd\n",
    "import matplotlib.pyplot as plt\n",
    "\n",
    "#sklearn packages - model selection\n",
    "from sklearn.model_selection import train_test_split\n",
    "from sklearn.model_selection import GridSearchCV\n",
    "\n",
    "#sklearn models\n",
    "from sklearn.linear_model import LinearRegression\n",
    "from sklearn.linear_model import Ridge\n",
    "from sklearn.neural_network import MLPRegressor\n",
    "from sklearn.ensemble import GradientBoostingRegressor\n",
    "\n",
    "#sklearn packages - metrics\n",
    "from sklearn.metrics import mean_absolute_error\n",
    "from sklearn.metrics import mean_squared_error\n",
    "from sklearn.metrics import r2_score"
   ]
  },
  {
   "cell_type": "markdown",
   "metadata": {},
   "source": [
    "## Part 1\n",
    "### Load Data"
   ]
  },
  {
   "cell_type": "code",
   "execution_count": 3,
   "metadata": {},
   "outputs": [
    {
     "data": {
      "text/html": [
       "<div>\n",
       "<style scoped>\n",
       "    .dataframe tbody tr th:only-of-type {\n",
       "        vertical-align: middle;\n",
       "    }\n",
       "\n",
       "    .dataframe tbody tr th {\n",
       "        vertical-align: top;\n",
       "    }\n",
       "\n",
       "    .dataframe thead th {\n",
       "        text-align: right;\n",
       "    }\n",
       "</style>\n",
       "<table border=\"1\" class=\"dataframe\">\n",
       "  <thead>\n",
       "    <tr style=\"text-align: right;\">\n",
       "      <th></th>\n",
       "      <th>No.</th>\n",
       "      <th>C</th>\n",
       "      <th>Si</th>\n",
       "      <th>Mn</th>\n",
       "      <th>P</th>\n",
       "      <th>S</th>\n",
       "      <th>Cr</th>\n",
       "      <th>Ni</th>\n",
       "      <th>Mo</th>\n",
       "      <th>N</th>\n",
       "      <th>...</th>\n",
       "      <th>Al</th>\n",
       "      <th>Ti</th>\n",
       "      <th>V</th>\n",
       "      <th>B</th>\n",
       "      <th>Th</th>\n",
       "      <th>I</th>\n",
       "      <th>U</th>\n",
       "      <th>Ve</th>\n",
       "      <th>Strain</th>\n",
       "      <th>TCL</th>\n",
       "    </tr>\n",
       "  </thead>\n",
       "  <tbody>\n",
       "    <tr>\n",
       "      <th>0</th>\n",
       "      <td>1</td>\n",
       "      <td>0.010</td>\n",
       "      <td>0.48</td>\n",
       "      <td>1.61</td>\n",
       "      <td>0.024</td>\n",
       "      <td>0.019</td>\n",
       "      <td>17.33</td>\n",
       "      <td>10.62</td>\n",
       "      <td>2.09</td>\n",
       "      <td>0.060</td>\n",
       "      <td>...</td>\n",
       "      <td>0.02</td>\n",
       "      <td>0.0</td>\n",
       "      <td>0.0</td>\n",
       "      <td>0.0</td>\n",
       "      <td>3.18</td>\n",
       "      <td>100</td>\n",
       "      <td>12.0</td>\n",
       "      <td>4.23</td>\n",
       "      <td>4.0</td>\n",
       "      <td>1.5</td>\n",
       "    </tr>\n",
       "    <tr>\n",
       "      <th>1</th>\n",
       "      <td>2</td>\n",
       "      <td>0.011</td>\n",
       "      <td>0.58</td>\n",
       "      <td>1.06</td>\n",
       "      <td>0.032</td>\n",
       "      <td>0.013</td>\n",
       "      <td>16.95</td>\n",
       "      <td>10.50</td>\n",
       "      <td>2.15</td>\n",
       "      <td>0.078</td>\n",
       "      <td>...</td>\n",
       "      <td>0.02</td>\n",
       "      <td>0.0</td>\n",
       "      <td>0.0</td>\n",
       "      <td>0.0</td>\n",
       "      <td>3.18</td>\n",
       "      <td>100</td>\n",
       "      <td>12.0</td>\n",
       "      <td>4.23</td>\n",
       "      <td>4.0</td>\n",
       "      <td>1.1</td>\n",
       "    </tr>\n",
       "    <tr>\n",
       "      <th>2</th>\n",
       "      <td>3</td>\n",
       "      <td>0.010</td>\n",
       "      <td>0.46</td>\n",
       "      <td>1.09</td>\n",
       "      <td>0.021</td>\n",
       "      <td>0.001</td>\n",
       "      <td>17.40</td>\n",
       "      <td>11.50</td>\n",
       "      <td>2.88</td>\n",
       "      <td>0.105</td>\n",
       "      <td>...</td>\n",
       "      <td>0.02</td>\n",
       "      <td>0.0</td>\n",
       "      <td>0.0</td>\n",
       "      <td>0.0</td>\n",
       "      <td>3.18</td>\n",
       "      <td>100</td>\n",
       "      <td>12.0</td>\n",
       "      <td>4.23</td>\n",
       "      <td>4.0</td>\n",
       "      <td>0.9</td>\n",
       "    </tr>\n",
       "    <tr>\n",
       "      <th>3</th>\n",
       "      <td>4</td>\n",
       "      <td>0.010</td>\n",
       "      <td>0.51</td>\n",
       "      <td>1.60</td>\n",
       "      <td>0.021</td>\n",
       "      <td>0.001</td>\n",
       "      <td>17.55</td>\n",
       "      <td>12.95</td>\n",
       "      <td>2.76</td>\n",
       "      <td>0.113</td>\n",
       "      <td>...</td>\n",
       "      <td>0.02</td>\n",
       "      <td>0.0</td>\n",
       "      <td>0.0</td>\n",
       "      <td>0.0</td>\n",
       "      <td>3.18</td>\n",
       "      <td>100</td>\n",
       "      <td>12.0</td>\n",
       "      <td>4.23</td>\n",
       "      <td>4.0</td>\n",
       "      <td>3.7</td>\n",
       "    </tr>\n",
       "    <tr>\n",
       "      <th>4</th>\n",
       "      <td>5</td>\n",
       "      <td>0.012</td>\n",
       "      <td>0.46</td>\n",
       "      <td>1.54</td>\n",
       "      <td>0.027</td>\n",
       "      <td>0.023</td>\n",
       "      <td>16.28</td>\n",
       "      <td>10.15</td>\n",
       "      <td>2.06</td>\n",
       "      <td>0.098</td>\n",
       "      <td>...</td>\n",
       "      <td>0.02</td>\n",
       "      <td>0.0</td>\n",
       "      <td>0.0</td>\n",
       "      <td>0.0</td>\n",
       "      <td>3.18</td>\n",
       "      <td>100</td>\n",
       "      <td>12.0</td>\n",
       "      <td>4.23</td>\n",
       "      <td>4.0</td>\n",
       "      <td>1.5</td>\n",
       "    </tr>\n",
       "  </tbody>\n",
       "</table>\n",
       "<p>5 rows × 23 columns</p>\n",
       "</div>"
      ],
      "text/plain": [
       "   No.      C    Si    Mn      P      S     Cr     Ni    Mo      N  ...    Al  \\\n",
       "0    1  0.010  0.48  1.61  0.024  0.019  17.33  10.62  2.09  0.060  ...  0.02   \n",
       "1    2  0.011  0.58  1.06  0.032  0.013  16.95  10.50  2.15  0.078  ...  0.02   \n",
       "2    3  0.010  0.46  1.09  0.021  0.001  17.40  11.50  2.88  0.105  ...  0.02   \n",
       "3    4  0.010  0.51  1.60  0.021  0.001  17.55  12.95  2.76  0.113  ...  0.02   \n",
       "4    5  0.012  0.46  1.54  0.027  0.023  16.28  10.15  2.06  0.098  ...  0.02   \n",
       "\n",
       "    Ti    V    B    Th    I     U    Ve  Strain  TCL  \n",
       "0  0.0  0.0  0.0  3.18  100  12.0  4.23     4.0  1.5  \n",
       "1  0.0  0.0  0.0  3.18  100  12.0  4.23     4.0  1.1  \n",
       "2  0.0  0.0  0.0  3.18  100  12.0  4.23     4.0  0.9  \n",
       "3  0.0  0.0  0.0  3.18  100  12.0  4.23     4.0  3.7  \n",
       "4  0.0  0.0  0.0  3.18  100  12.0  4.23     4.0  1.5  \n",
       "\n",
       "[5 rows x 23 columns]"
      ]
     },
     "execution_count": 3,
     "metadata": {},
     "output_type": "execute_result"
    }
   ],
   "source": [
    "### load data\n",
    "#read csv\n",
    "df = pd.read_csv('data.csv')\n",
    "\n",
    "#get head\n",
    "df.head()"
   ]
  },
  {
   "cell_type": "markdown",
   "metadata": {},
   "source": [
    "### Prep and clean data\n",
    "\n",
    "* split into x and y arrays\n",
    "* Check for missing values\n",
    "* normalize x values to zero mean and unit variance\n",
    "* train/test split"
   ]
  },
  {
   "cell_type": "code",
   "execution_count": 4,
   "metadata": {},
   "outputs": [
    {
     "name": "stdout",
     "output_type": "stream",
     "text": [
      "(487, 21) (487,)\n",
      "The number of missing x values is: 0\n",
      "The number of missing y values is: 0\n"
     ]
    }
   ],
   "source": [
    "# break df into x and y numpy arrays\n",
    "df_y = df.TCL.values\n",
    "df_x = df.drop(['TCL', 'No.'], axis = 1).values\n",
    "\n",
    "\n",
    "# are the two arrays the correct shape?\n",
    "print(df_x.shape, df_y.shape)\n",
    "\n",
    "# Any missing values?\n",
    "print('The number of missing x values is:', np.count_nonzero(np.isnan(df_x)))\n",
    "print('The number of missing y values is:', np.count_nonzero(np.isnan(df_y)))"
   ]
  },
  {
   "cell_type": "code",
   "execution_count": 5,
   "metadata": {},
   "outputs": [
    {
     "name": "stdout",
     "output_type": "stream",
     "text": [
      "[-2.91803998e-17  5.83607997e-17  5.10656997e-17 -8.75411995e-17\n",
      " -1.60492199e-16 -8.75411995e-16 -2.91803998e-16 -6.56558996e-17\n",
      " -1.45901999e-17  7.29509996e-17  2.91803998e-17 -1.16721599e-16\n",
      "  7.29509996e-17 -2.91803998e-17  5.83607997e-17  1.16721599e-16\n",
      " -8.75411995e-17  1.02131399e-16 -3.79345198e-16 -2.62623598e-16\n",
      "  2.11557899e-16] [1. 1. 1. 1. 1. 1. 1. 1. 1. 1. 1. 1. 1. 1. 1. 1. 1. 1. 1. 1. 1.]\n"
     ]
    }
   ],
   "source": [
    "#Normalize feature data\n",
    "\n",
    "normX = (df_x - df_x.mean(axis = 0)) / df_x.std(axis = 0)\n",
    "\n",
    "\n",
    "#check our work. Variance should be one and mean should be ~0\n",
    "print(normX.mean(axis = 0), normX.var(axis = 0))"
   ]
  },
  {
   "cell_type": "code",
   "execution_count": 6,
   "metadata": {},
   "outputs": [],
   "source": [
    "# Train Test split\n",
    "\n",
    "X_train, X_test, y_train, y_test = train_test_split(normX, df_y, test_size = 0.2, random_state = 1)"
   ]
  },
  {
   "cell_type": "markdown",
   "metadata": {},
   "source": [
    "## Part 2a: Linear Regression"
   ]
  },
  {
   "cell_type": "code",
   "execution_count": 7,
   "metadata": {},
   "outputs": [
    {
     "name": "stdout",
     "output_type": "stream",
     "text": [
      "The train MAE is: 3.81\n",
      "The test MAE is: 4.65\n",
      "The train RMSE is: 22.02\n",
      "The test RMSE is: 34.10\n"
     ]
    }
   ],
   "source": [
    "# fit linear regression model\n",
    "reg = LinearRegression(fit_intercept=False).fit(X_train, y_train)\n",
    "\n",
    "#get prediction arrays for train and test data sets\n",
    "y_train_pred = reg.predict(X_train)\n",
    "y_test_pred = reg.predict(X_test)\n",
    "\n",
    "#MAE values\n",
    "print('The train MAE is: %0.2f' % mean_absolute_error(y_train, y_train_pred))\n",
    "print('The test MAE is: %0.2f' % mean_absolute_error(y_test, y_test_pred))\n",
    "\n",
    "#RMSE values\n",
    "#MAE values\n",
    "print('The train RMSE is: %0.2f' % mean_squared_error(y_train, y_train_pred))\n",
    "print('The test RMSE is: %0.2f' % mean_squared_error(y_test, y_test_pred))"
   ]
  },
  {
   "cell_type": "markdown",
   "metadata": {},
   "source": [
    "## Part 2b: Ridge Regression"
   ]
  },
  {
   "cell_type": "code",
   "execution_count": 8,
   "metadata": {},
   "outputs": [
    {
     "name": "stdout",
     "output_type": "stream",
     "text": [
      "  \n",
      "The alpha value used in this regression is 0.01\n",
      "The train MAE at alpha of  is: 3.806\n",
      "The test MAE is: 4.651\n",
      "The train RMSE is: 22.017\n",
      "The test RMSE is: 34.096\n",
      "The train R^2 is: -0.39\n",
      "The test R^2 is: -0.45\n",
      "  \n",
      "The alpha value used in this regression is 0.1\n",
      "The train MAE at alpha of  is: 3.806\n",
      "The test MAE is: 4.651\n",
      "The train RMSE is: 22.017\n",
      "The test RMSE is: 34.094\n",
      "The train R^2 is: -0.39\n",
      "The test R^2 is: -0.45\n",
      "  \n",
      "The alpha value used in this regression is 1.5\n",
      "The train MAE at alpha of  is: 3.805\n",
      "The test MAE is: 4.648\n",
      "The train RMSE is: 22.019\n",
      "The test RMSE is: 34.075\n",
      "The train R^2 is: -0.39\n",
      "The test R^2 is: -0.45\n",
      "  \n",
      "The alpha value used in this regression is 2.0\n",
      "The train MAE at alpha of  is: 3.805\n",
      "The test MAE is: 4.647\n",
      "The train RMSE is: 22.020\n",
      "The test RMSE is: 34.070\n",
      "The train R^2 is: -0.39\n",
      "The test R^2 is: -0.45\n",
      "  \n",
      "The alpha value used in this regression is 5.0\n",
      "The train MAE at alpha of  is: 3.803\n",
      "The test MAE is: 4.644\n",
      "The train RMSE is: 22.033\n",
      "The test RMSE is: 34.048\n",
      "The train R^2 is: -0.39\n",
      "The test R^2 is: -0.45\n"
     ]
    }
   ],
   "source": [
    "# alpha values\n",
    "alphas = [0.01, 0.1, 1.5, 2.0, 5.0]\n",
    "\n",
    "for a in alphas:\n",
    "    ridge = Ridge(alpha = a, fit_intercept=False).fit(X_train, y_train)\n",
    "    #get prediction arrays for train and test data sets\n",
    "    y_train_pred = ridge.predict(X_train)\n",
    "    y_test_pred = ridge.predict(X_test)\n",
    "\n",
    "    print('  ')\n",
    "    print('The alpha value used in this regression is', a)\n",
    "    \n",
    "    #MAE values\n",
    "    print('The train MAE at alpha of  is: %0.3f' % mean_absolute_error(y_train, y_train_pred))\n",
    "    print('The test MAE is: %0.3f' % mean_absolute_error(y_test, y_test_pred))\n",
    "\n",
    "    #RMSE values\n",
    "    #MAE values\n",
    "    print('The train RMSE is: %0.3f' % mean_squared_error(y_train, y_train_pred))\n",
    "    print('The test RMSE is: %0.3f' % mean_squared_error(y_test, y_test_pred))\n",
    "    \n",
    "    #R^2 values\n",
    "    print('The train R^2 is: %0.2f' % r2_score(y_train, y_train_pred))\n",
    "    print('The test R^2 is: %0.2f' % r2_score(y_test, y_test_pred))"
   ]
  },
  {
   "cell_type": "markdown",
   "metadata": {},
   "source": [
    "## Part 2b Comment\n",
    "\n",
    "For the values of alpha suggested, the coefficients are relatively constant and every similar to the least squares regression model. Only as the alpha value is increased to large values (i.e. 10) does the model start to reduce the coefficients towards zero. From the results of alphas, the MAE and RMSE is relatively unchanging across the number of alphas selected, though an alpha value of 5 gives a slightly better training RMSE"
   ]
  },
  {
   "cell_type": "markdown",
   "metadata": {},
   "source": [
    "## Part 2c: Plotting True and Predicted Y values"
   ]
  },
  {
   "cell_type": "code",
   "execution_count": 54,
   "metadata": {},
   "outputs": [
    {
     "data": {
      "text/plain": [
       "Text(0, 0.5, 'Predicted Test Y Values')"
      ]
     },
     "execution_count": 54,
     "metadata": {},
     "output_type": "execute_result"
    },
    {
     "data": {
      "image/png": "[encoded data removed]",
      "text/plain": [
       "<Figure size 432x288 with 1 Axes>"
      ]
     },
     "metadata": {
      "needs_background": "light"
     },
     "output_type": "display_data"
    }
   ],
   "source": [
    "\n",
    "ridge = Ridge(alpha = 5).fit(X_train, y_train)\n",
    "#get prediction arrays for train and test data sets\n",
    "y_train_pred = ridge.predict(X_train)\n",
    "y_test_pred = ridge.predict(X_test)\n",
    "\n",
    "plt.scatter(y_test, y_test_pred)\n",
    "plt.xlabel('True Test Y Values')\n",
    "plt.ylabel('Predicted Test Y Values')"
   ]
  },
  {
   "cell_type": "markdown",
   "metadata": {},
   "source": [
    "## Part 3a: Fitting a neural network"
   ]
  },
  {
   "cell_type": "code",
   "execution_count": 67,
   "metadata": {},
   "outputs": [
    {
     "name": "stdout",
     "output_type": "stream",
     "text": [
      "The train MAE is: 1.13\n",
      "The test MAE is: 1.73\n",
      "The train RMSE is: 2.77\n",
      "The test RMSE is: 7.42\n",
      "The train R^2 is: 0.82\n",
      "The test R^2 is: 0.68\n"
     ]
    },
    {
     "name": "stderr",
     "output_type": "stream",
     "text": [
      "C:\\Users\\Ian Johnston\\Anaconda3\\envs\\MSE1065\\lib\\site-packages\\sklearn\\neural_network\\_multilayer_perceptron.py:571: ConvergenceWarning: Stochastic Optimizer: Maximum iterations (1000) reached and the optimization hasn't converged yet.\n",
      "  % self.max_iter, ConvergenceWarning)\n"
     ]
    }
   ],
   "source": [
    "#define model and fit data\n",
    "mlp = MLPRegressor(hidden_layer_sizes= (6, 6), \\\n",
    "                  max_iter= 1000).fit(X_train, y_train)\n",
    "\n",
    "#Generate Predicted data set\n",
    "y_train_pred = mlp.predict(X_train)\n",
    "y_test_pred = mlp.predict(X_test)\n",
    "\n",
    "#MAE values\n",
    "print('The train MAE is: %0.2f' % mean_absolute_error(y_train, y_train_pred))\n",
    "print('The test MAE is: %0.2f' % mean_absolute_error(y_test, y_test_pred))\n",
    "\n",
    "#RMSE values\n",
    "print('The train RMSE is: %0.2f' % mean_squared_error(y_train, y_train_pred))\n",
    "print('The test RMSE is: %0.2f' % mean_squared_error(y_test, y_test_pred))\n",
    "\n",
    "#R^2 values\n",
    "print('The train R^2 is: %0.2f' % r2_score(y_train, y_train_pred))\n",
    "print('The test R^2 is: %0.2f' % r2_score(y_test, y_test_pred))"
   ]
  },
  {
   "cell_type": "markdown",
   "metadata": {},
   "source": [
    "## Part 3a- Comment\n",
    "\n",
    "Considering both MAE and RMSE, the neural network fits the data much better. By inspection, it can be seen in the plot in Part 2c that a the true and predicted y-values depart from linearity, suggesting linear models may be inappropiate and a more flexible model is needed"
   ]
  },
  {
   "cell_type": "markdown",
   "metadata": {},
   "source": [
    "## Part 3b: optional 1"
   ]
  },
  {
   "cell_type": "code",
   "execution_count": 69,
   "metadata": {},
   "outputs": [
    {
     "name": "stdout",
     "output_type": "stream",
     "text": [
      "The train MAE is: 1.13\n",
      "The test MAE is: 1.94\n",
      "The train RMSE is: 2.48\n",
      "The test RMSE is: 8.17\n",
      "The train R^2 is: 0.84\n",
      "The test R^2 is: 0.65\n"
     ]
    },
    {
     "name": "stderr",
     "output_type": "stream",
     "text": [
      "C:\\Users\\Ian Johnston\\Anaconda3\\envs\\MSE1065\\lib\\site-packages\\sklearn\\neural_network\\_multilayer_perceptron.py:571: ConvergenceWarning: Stochastic Optimizer: Maximum iterations (1000) reached and the optimization hasn't converged yet.\n",
      "  % self.max_iter, ConvergenceWarning)\n"
     ]
    }
   ],
   "source": [
    "#define model and fit data\n",
    "mlp = MLPRegressor(hidden_layer_sizes= (6, 6, 3), \\\n",
    "                  max_iter= 1000).fit(X_train, y_train)\n",
    "\n",
    "#Generate Predicted data set\n",
    "y_train_pred = mlp.predict(X_train)\n",
    "y_test_pred = mlp.predict(X_test)\n",
    "\n",
    "#MAE values\n",
    "print('The train MAE is: %0.2f' % mean_absolute_error(y_train, y_train_pred))\n",
    "print('The test MAE is: %0.2f' % mean_absolute_error(y_test, y_test_pred))\n",
    "\n",
    "#RMSE values\n",
    "print('The train RMSE is: %0.2f' % mean_squared_error(y_train, y_train_pred))\n",
    "print('The test RMSE is: %0.2f' % mean_squared_error(y_test, y_test_pred))\n",
    "\n",
    "#R^2 values\n",
    "print('The train R^2 is: %0.2f' % r2_score(y_train, y_train_pred))\n",
    "print('The test R^2 is: %0.2f' % r2_score(y_test, y_test_pred))"
   ]
  },
  {
   "cell_type": "markdown",
   "metadata": {},
   "source": [
    "## Part 3b- Comment\n",
    "\n",
    "The extra hidden layer leads for overfitting - training error drops, but test error rises"
   ]
  },
  {
   "cell_type": "markdown",
   "metadata": {},
   "source": [
    "## Part 3c: Optional 2 - Grid Search CV\n",
    "\n",
    "Look at the affect of activation function and alpha value"
   ]
  },
  {
   "cell_type": "code",
   "execution_count": 83,
   "metadata": {
    "collapsed": true,
    "jupyter": {
     "outputs_hidden": true
    }
   },
   "outputs": [
    {
     "name": "stderr",
     "output_type": "stream",
     "text": [
      "C:\\Users\\Ian Johnston\\Anaconda3\\envs\\MSE1065\\lib\\site-packages\\sklearn\\neural_network\\_multilayer_perceptron.py:571: ConvergenceWarning: Stochastic Optimizer: Maximum iterations (200) reached and the optimization hasn't converged yet.\n",
      "  % self.max_iter, ConvergenceWarning)\n",
      "C:\\Users\\Ian Johnston\\Anaconda3\\envs\\MSE1065\\lib\\site-packages\\sklearn\\neural_network\\_multilayer_perceptron.py:571: ConvergenceWarning: Stochastic Optimizer: Maximum iterations (200) reached and the optimization hasn't converged yet.\n",
      "  % self.max_iter, ConvergenceWarning)\n",
      "C:\\Users\\Ian Johnston\\Anaconda3\\envs\\MSE1065\\lib\\site-packages\\sklearn\\neural_network\\_multilayer_perceptron.py:571: ConvergenceWarning: Stochastic Optimizer: Maximum iterations (200) reached and the optimization hasn't converged yet.\n",
      "  % self.max_iter, ConvergenceWarning)\n",
      "C:\\Users\\Ian Johnston\\Anaconda3\\envs\\MSE1065\\lib\\site-packages\\sklearn\\neural_network\\_multilayer_perceptron.py:571: ConvergenceWarning: Stochastic Optimizer: Maximum iterations (200) reached and the optimization hasn't converged yet.\n",
      "  % self.max_iter, ConvergenceWarning)\n",
      "C:\\Users\\Ian Johnston\\Anaconda3\\envs\\MSE1065\\lib\\site-packages\\sklearn\\neural_network\\_multilayer_perceptron.py:571: ConvergenceWarning: Stochastic Optimizer: Maximum iterations (200) reached and the optimization hasn't converged yet.\n",
      "  % self.max_iter, ConvergenceWarning)\n",
      "C:\\Users\\Ian Johnston\\Anaconda3\\envs\\MSE1065\\lib\\site-packages\\sklearn\\neural_network\\_multilayer_perceptron.py:571: ConvergenceWarning: Stochastic Optimizer: Maximum iterations (200) reached and the optimization hasn't converged yet.\n",
      "  % self.max_iter, ConvergenceWarning)\n",
      "C:\\Users\\Ian Johnston\\Anaconda3\\envs\\MSE1065\\lib\\site-packages\\sklearn\\neural_network\\_multilayer_perceptron.py:571: ConvergenceWarning: Stochastic Optimizer: Maximum iterations (200) reached and the optimization hasn't converged yet.\n",
      "  % self.max_iter, ConvergenceWarning)\n",
      "C:\\Users\\Ian Johnston\\Anaconda3\\envs\\MSE1065\\lib\\site-packages\\sklearn\\neural_network\\_multilayer_perceptron.py:571: ConvergenceWarning: Stochastic Optimizer: Maximum iterations (200) reached and the optimization hasn't converged yet.\n",
      "  % self.max_iter, ConvergenceWarning)\n",
      "C:\\Users\\Ian Johnston\\Anaconda3\\envs\\MSE1065\\lib\\site-packages\\sklearn\\neural_network\\_multilayer_perceptron.py:571: ConvergenceWarning: Stochastic Optimizer: Maximum iterations (200) reached and the optimization hasn't converged yet.\n",
      "  % self.max_iter, ConvergenceWarning)\n",
      "C:\\Users\\Ian Johnston\\Anaconda3\\envs\\MSE1065\\lib\\site-packages\\sklearn\\neural_network\\_multilayer_perceptron.py:571: ConvergenceWarning: Stochastic Optimizer: Maximum iterations (200) reached and the optimization hasn't converged yet.\n",
      "  % self.max_iter, ConvergenceWarning)\n",
      "C:\\Users\\Ian Johnston\\Anaconda3\\envs\\MSE1065\\lib\\site-packages\\sklearn\\neural_network\\_multilayer_perceptron.py:571: ConvergenceWarning: Stochastic Optimizer: Maximum iterations (200) reached and the optimization hasn't converged yet.\n",
      "  % self.max_iter, ConvergenceWarning)\n",
      "C:\\Users\\Ian Johnston\\Anaconda3\\envs\\MSE1065\\lib\\site-packages\\sklearn\\neural_network\\_multilayer_perceptron.py:571: ConvergenceWarning: Stochastic Optimizer: Maximum iterations (200) reached and the optimization hasn't converged yet.\n",
      "  % self.max_iter, ConvergenceWarning)\n",
      "C:\\Users\\Ian Johnston\\Anaconda3\\envs\\MSE1065\\lib\\site-packages\\sklearn\\neural_network\\_multilayer_perceptron.py:571: ConvergenceWarning: Stochastic Optimizer: Maximum iterations (200) reached and the optimization hasn't converged yet.\n",
      "  % self.max_iter, ConvergenceWarning)\n",
      "C:\\Users\\Ian Johnston\\Anaconda3\\envs\\MSE1065\\lib\\site-packages\\sklearn\\neural_network\\_multilayer_perceptron.py:571: ConvergenceWarning: Stochastic Optimizer: Maximum iterations (200) reached and the optimization hasn't converged yet.\n",
      "  % self.max_iter, ConvergenceWarning)\n",
      "C:\\Users\\Ian Johnston\\Anaconda3\\envs\\MSE1065\\lib\\site-packages\\sklearn\\neural_network\\_multilayer_perceptron.py:571: ConvergenceWarning: Stochastic Optimizer: Maximum iterations (200) reached and the optimization hasn't converged yet.\n",
      "  % self.max_iter, ConvergenceWarning)\n",
      "C:\\Users\\Ian Johnston\\Anaconda3\\envs\\MSE1065\\lib\\site-packages\\sklearn\\neural_network\\_multilayer_perceptron.py:571: ConvergenceWarning: Stochastic Optimizer: Maximum iterations (200) reached and the optimization hasn't converged yet.\n",
      "  % self.max_iter, ConvergenceWarning)\n",
      "C:\\Users\\Ian Johnston\\Anaconda3\\envs\\MSE1065\\lib\\site-packages\\sklearn\\neural_network\\_multilayer_perceptron.py:571: ConvergenceWarning: Stochastic Optimizer: Maximum iterations (200) reached and the optimization hasn't converged yet.\n",
      "  % self.max_iter, ConvergenceWarning)\n",
      "C:\\Users\\Ian Johnston\\Anaconda3\\envs\\MSE1065\\lib\\site-packages\\sklearn\\neural_network\\_multilayer_perceptron.py:571: ConvergenceWarning: Stochastic Optimizer: Maximum iterations (200) reached and the optimization hasn't converged yet.\n",
      "  % self.max_iter, ConvergenceWarning)\n",
      "C:\\Users\\Ian Johnston\\Anaconda3\\envs\\MSE1065\\lib\\site-packages\\sklearn\\neural_network\\_multilayer_perceptron.py:571: ConvergenceWarning: Stochastic Optimizer: Maximum iterations (200) reached and the optimization hasn't converged yet.\n",
      "  % self.max_iter, ConvergenceWarning)\n",
      "C:\\Users\\Ian Johnston\\Anaconda3\\envs\\MSE1065\\lib\\site-packages\\sklearn\\neural_network\\_multilayer_perceptron.py:571: ConvergenceWarning: Stochastic Optimizer: Maximum iterations (200) reached and the optimization hasn't converged yet.\n",
      "  % self.max_iter, ConvergenceWarning)\n",
      "C:\\Users\\Ian Johnston\\Anaconda3\\envs\\MSE1065\\lib\\site-packages\\sklearn\\neural_network\\_multilayer_perceptron.py:571: ConvergenceWarning: Stochastic Optimizer: Maximum iterations (200) reached and the optimization hasn't converged yet.\n",
      "  % self.max_iter, ConvergenceWarning)\n"
     ]
    },
    {
     "data": {
      "text/plain": [
       "GridSearchCV(cv=None, error_score=nan,\n",
       "             estimator=MLPRegressor(activation='relu', alpha=0.0001,\n",
       "                                    batch_size='auto', beta_1=0.9, beta_2=0.999,\n",
       "                                    early_stopping=False, epsilon=1e-08,\n",
       "                                    hidden_layer_sizes=(100,),\n",
       "                                    learning_rate='constant',\n",
       "                                    learning_rate_init=0.001, max_fun=15000,\n",
       "                                    max_iter=200, momentum=0.9,\n",
       "                                    n_iter_no_change=10,\n",
       "                                    nesterovs_momentum=True, power_t=0.5,\n",
       "                                    random_state=None, shuffle=True,\n",
       "                                    solver='adam', tol=0.0001,\n",
       "                                    validation_fraction=0.1, verbose=False,\n",
       "                                    warm_start=False),\n",
       "             iid='deprecated', n_jobs=None,\n",
       "             param_grid={'activation': ('tanh', 'relu'),\n",
       "                         'alpha': (0.0001, 0.01)},\n",
       "             pre_dispatch='2*n_jobs', refit=True, return_train_score=False,\n",
       "             scoring=None, verbose=0)"
      ]
     },
     "execution_count": 83,
     "metadata": {},
     "output_type": "execute_result"
    }
   ],
   "source": [
    "      \n",
    "#specify parameters           \n",
    "parameters = {'activation' : ('tanh', 'relu'), 'alpha': (0.0001, 0.01)}\n",
    "\n",
    "mlp = MLPRegressor()\n",
    "\n",
    "clf = GridSearchCV(mlp, parameters)\n",
    "\n",
    "#fit whole data set that has not been split into train and test\n",
    "clf.fit(normX, df_y)"
   ]
  },
  {
   "cell_type": "code",
   "execution_count": 80,
   "metadata": {},
   "outputs": [
    {
     "data": {
      "text/plain": [
       "{'mean_fit_time': array([0.49168077, 0.46580453, 0.63442168, 0.65769391]),\n",
       " 'std_fit_time': array([0.03361945, 0.01637171, 0.04029428, 0.0931882 ]),\n",
       " 'mean_score_time': array([0.001196  , 0.00159607, 0.00119705, 0.00139527]),\n",
       " 'std_score_time': array([0.00039979, 0.00079803, 0.0003989 , 0.00048936]),\n",
       " 'param_activation': masked_array(data=['tanh', 'tanh', 'relu', 'relu'],\n",
       "              mask=[False, False, False, False],\n",
       "        fill_value='?',\n",
       "             dtype=object),\n",
       " 'param_alpha': masked_array(data=[0.0001, 0.01, 0.0001, 0.01],\n",
       "              mask=[False, False, False, False],\n",
       "        fill_value='?',\n",
       "             dtype=object),\n",
       " 'params': [{'activation': 'tanh', 'alpha': 0.0001},\n",
       "  {'activation': 'tanh', 'alpha': 0.01},\n",
       "  {'activation': 'relu', 'alpha': 0.0001},\n",
       "  {'activation': 'relu', 'alpha': 0.01}],\n",
       " 'split0_test_score': array([0.20775519, 0.24117168, 0.3843086 , 0.31738219]),\n",
       " 'split1_test_score': array([0.45227359, 0.43959259, 0.46645444, 0.45053363]),\n",
       " 'split2_test_score': array([0.48800048, 0.49914261, 0.56139147, 0.53476182]),\n",
       " 'split3_test_score': array([0.6637027 , 0.66142111, 0.6654549 , 0.65678895]),\n",
       " 'split4_test_score': array([0.56822478, 0.56948657, 0.62769198, 0.64084607]),\n",
       " 'mean_test_score': array([0.47599135, 0.48216291, 0.54106028, 0.52006253]),\n",
       " 'std_test_score': array([0.15257782, 0.14137626, 0.10346937, 0.12602574]),\n",
       " 'rank_test_score': array([4, 3, 1, 2])}"
      ]
     },
     "execution_count": 80,
     "metadata": {},
     "output_type": "execute_result"
    }
   ],
   "source": [
    "results = clf.cv_results_\n",
    "\n",
    "#print results\n",
    "results"
   ]
  },
  {
   "cell_type": "markdown",
   "metadata": {},
   "source": [
    "## Part 3c Comment\n",
    "\n",
    "The best model was activation function of 'relu' and a alpha of '0.0001'"
   ]
  },
  {
   "cell_type": "markdown",
   "metadata": {},
   "source": [
    "## Part 4: Pick a favorite\n",
    "\n",
    "Look at Gradient boosting regressor, as it was the method used in our journal presentation"
   ]
  },
  {
   "cell_type": "code",
   "execution_count": 9,
   "metadata": {},
   "outputs": [
    {
     "name": "stdout",
     "output_type": "stream",
     "text": [
      "The train MAE is: 0.81\n",
      "The test MAE is: 1.56\n",
      "The train RMSE is: 1.22\n",
      "The test RMSE is: 5.49\n",
      "The train R^2 is: 0.92\n",
      "The test R^2 is: 0.77\n"
     ]
    }
   ],
   "source": [
    "#define model\n",
    "gbt = GradientBoostingRegressor().fit(X_train, y_train)\n",
    "\n",
    "#get prediction arrays for train and test data sets\n",
    "y_train_pred = gbt.predict(X_train)\n",
    "y_test_pred = gbt.predict(X_test)\n",
    "\n",
    "#MAE values\n",
    "print('The train MAE is: %0.2f' % mean_absolute_error(y_train, y_train_pred))\n",
    "print('The test MAE is: %0.2f' % mean_absolute_error(y_test, y_test_pred))\n",
    "\n",
    "#RMSE values\n",
    "#MAE values\n",
    "print('The train RMSE is: %0.2f' % mean_squared_error(y_train, y_train_pred))\n",
    "print('The test RMSE is: %0.2f' % mean_squared_error(y_test, y_test_pred))\n",
    "\n",
    "#R^2 values\n",
    "print('The train R^2 is: %0.2f' % r2_score(y_train, y_train_pred))\n",
    "print('The test R^2 is: %0.2f' % r2_score(y_test, y_test_pred))"
   ]
  },
  {
   "cell_type": "markdown",
   "metadata": {},
   "source": [
    "## Part 4: Comment\n",
    "\n",
    "Gradient Boosting Regressor for this data set is an excellent model choice"
   ]
  },
  {
   "cell_type": "code",
   "execution_count": null,
   "metadata": {},
   "outputs": [],
   "source": []
  }
 ],
 "metadata": {
  "kernelspec": {
   "display_name": "Python 3",
   "language": "python",
   "name": "python3"
  },
  "language_info": {
   "codemirror_mode": {
    "name": "ipython",
    "version": 3
   },
   "file_extension": ".py",
   "mimetype": "text/x-python",
   "name": "python",
   "nbconvert_exporter": "python",
   "pygments_lexer": "ipython3",
   "version": "3.6.10"
  }
 },
 "nbformat": 4,
 "nbformat_minor": 4
}
