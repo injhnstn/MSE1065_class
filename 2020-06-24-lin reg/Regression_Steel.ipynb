{
 "cells": [
  {
   "cell_type": "markdown",
   "metadata": {},
   "source": [
    "### Lab -3 Regression\n",
    "This is graded lab. Following packages will be used \n",
    "\n",
    "Numpy\n",
    "\n",
    "scipy\n",
    "\n",
    "sklearn"
   ]
  },
  {
   "cell_type": "code",
   "execution_count": 1,
   "metadata": {},
   "outputs": [],
   "source": [
    "# The purpose of this lab is to learn a powerful ML package in python called scikit-learn.\n",
    "# We will use their linear regression module in this lab and subsequently learn about more complex models implemented \n",
    "# in this package.\n",
    "\n",
    "#Total points - 20"
   ]
  },
  {
   "cell_type": "code",
   "execution_count": 2,
   "metadata": {},
   "outputs": [],
   "source": [
    "# In this lab, we will predict tensile strength, yield strength and elongation of steel given various process parameters\n",
    "# The data was obtained from the following paper Ghuo S., etal (2018),'A predicting model for properties of steel using \n",
    "# the industrial big data based on machine learning'. The inputs are process parameters such as Furnace temperature, \n",
    "# Vanadium content, Annealing temperature etc. More details on the input features can be obtained through the above paper."
   ]
  },
  {
   "cell_type": "code",
   "execution_count": 4,
   "metadata": {},
   "outputs": [
    {
     "name": "stdout",
     "output_type": "stream",
     "text": [
      "Shape of input features  (63162, 27)\n",
      "Shape of output  (63162, 1)\n"
     ]
    }
   ],
   "source": [
    "# Our task in this lab is to consider these input features and predict the tensile strength of steel.\n",
    "# Let's start by importing necessary libraries.\n",
    "import numpy as np \n",
    "from scipy.io import loadmat\n",
    "\n",
    "#matplotlib is python package to create journal quality figures \n",
    "import matplotlib\n",
    "import matplotlib.pyplot as plt\n",
    "%matplotlib inline\n",
    "\n",
    "#Helper function to load data\n",
    "def loadData(filename):\n",
    "\tdata = loadmat(filename)\n",
    "\treturn data \n",
    "\n",
    "#dataDir = './SteelData/'\n",
    "processedFile = 'processed_data.mat'\n",
    "data = loadData(processedFile)\n",
    "X = data['X']\n",
    "Y = data['Y'][:,1].reshape(-1,1) # getting yield strength only\n",
    "\n",
    "print(\"Shape of input features \",X.shape)\n",
    "print(\"Shape of output \",Y.shape)"
   ]
  },
  {
   "cell_type": "code",
   "execution_count": 79,
   "metadata": {},
   "outputs": [
    {
     "name": "stdout",
     "output_type": "stream",
     "text": [
      "Type of x  float64\n",
      "Type of y  float64\n"
     ]
    }
   ],
   "source": [
    "# Ques 2.0 (1 point)\n",
    "\n",
    "# Check the type of objects stored with variable name X and Y\n",
    "# Hint - google python type\n",
    "typeX = X.dtype # Enter your code here\n",
    "typeY = Y.dtype # Enter your code here\n",
    "print(\"Type of x \",typeX)\n",
    "print(\"Type of y \", typeY)"
   ]
  },
  {
   "cell_type": "code",
   "execution_count": 82,
   "metadata": {},
   "outputs": [
    {
     "name": "stdout",
     "output_type": "stream",
     "text": [
      "Mean of the feature vectors %.2f [1.20082784e+03 8.61542605e+02 5.93204332e+02 3.88305421e+00\n",
      " 1.17302919e+03 6.64444761e-03 2.93571784e-02 1.00855847e-02\n",
      " 6.27934011e-02 4.23886514e-03 9.52944809e-04 7.11571673e-03\n",
      " 3.70315316e-02 3.42456002e-02 1.11670451e-02 4.01359995e-04\n",
      " 1.55644850e-03 2.85646433e-03 1.80558405e-03 7.74538488e-04\n",
      " 4.21283367e-04 1.97645703e-01 1.24391284e-01 1.19965486e-03\n",
      " 2.80343973e-03 7.47006111e-04 6.33292169e-09]\n",
      "Min of the feature vectors  [1.086e+03 6.100e+02 3.010e+02 1.500e+00 7.150e+02 1.000e-04 4.700e-03\n",
      " 2.300e-03 1.000e-04 1.000e-04 0.000e+00 1.000e-04 4.300e-03 3.100e-03\n",
      " 0.000e+00 0.000e+00 1.000e-04 1.600e-03 0.000e+00 1.000e-04 1.000e-04\n",
      " 1.290e-02 7.800e-03 0.000e+00 0.000e+00 0.000e+00 0.000e+00]\n",
      "Max of the feature vectors  [1.2810e+03 9.5400e+02 7.7100e+02 1.9000e+01 1.6300e+03 3.6000e-02\n",
      " 4.4030e-01 4.8290e-01 1.1523e+00 5.1430e-01 1.9990e-01 6.4500e-02\n",
      " 3.0750e-01 3.0670e-01 1.1300e-01 4.9000e-03 2.1400e-02 2.5100e-02\n",
      " 3.5700e-01 1.3500e-02 1.3600e-02 9.2190e-01 7.5480e-01 1.0190e-01\n",
      " 1.2200e-01 4.0000e-01 1.0000e-04]\n",
      "Median of the feature vectors  [1.200e+03 8.610e+02 5.870e+02 3.000e+00 1.200e+03 6.300e-03 1.200e-02\n",
      " 6.200e-03 1.430e-02 1.700e-03 2.000e-04 5.000e-04 3.160e-02 2.870e-02\n",
      " 1.200e-03 1.000e-04 1.300e-03 2.700e-03 1.100e-03 6.000e-04 1.000e-04\n",
      " 1.983e-01 1.119e-01 4.000e-04 2.810e-03 0.000e+00 0.000e+00]\n",
      "Mode of the feature vectors  ModeResult(mode=array([[1.201e+03, 8.650e+02, 6.210e+02, 2.750e+00, 1.250e+03, 3.400e-03,\n",
      "        1.180e-02, 5.900e-03, 1.300e-02, 1.000e-04, 1.000e-04, 1.000e-04,\n",
      "        3.180e-02, 2.820e-02, 1.000e-04, 1.000e-04, 1.100e-03, 2.600e-03,\n",
      "        0.000e+00, 3.000e-04, 1.000e-04, 7.000e-02, 5.000e-02, 1.000e-04,\n",
      "        0.000e+00, 0.000e+00, 0.000e+00]]), count=array([[ 1278,  1061,  1141,  9316,  5697,   937,  1183,  1898,   783,\n",
      "         8959, 27964, 23254,   457,   433,  9630, 22156,  3997,  6547,\n",
      "         5515, 12359, 40466,  1955,  2153, 16628,  6784, 43402, 63158]]))\n",
      "Var of the feature vectors  [5.49963838e+02 6.56598522e+02 2.63301990e+03 5.79205526e+00\n",
      " 3.11368785e+04 1.78845039e-05 4.32156385e-03 4.94623192e-04\n",
      " 2.80929398e-02 5.73922088e-04 6.71028447e-05 1.62811932e-04\n",
      " 1.33609867e-03 1.35669103e-03 2.98695312e-04 3.19898882e-07\n",
      " 9.65862046e-07 7.97864311e-07 3.12038298e-05 4.93402248e-07\n",
      " 4.48479446e-07 1.80194449e-02 8.70492575e-03 4.08938335e-05\n",
      " 4.94283872e-06 6.54460275e-06 6.33252063e-13]\n"
     ]
    }
   ],
   "source": [
    "#Ques 2.a (3 points)\n",
    "\n",
    "# Its highly recommended to start your data science project with feature visualization and exploration.\n",
    "# A common way is to plot histogram of each column of X and visulaize the underlying distributions.\n",
    "# We can also compute correlation matrix and identify the features with high correlation. \n",
    "# The above methods work well when we have low dimensional data. (Imagine having histograms for 1000 features)\n",
    "\n",
    "#Instead, we will compute different statistical quantities\n",
    "\n",
    "#For each feature, compute its mean, maximum, minimum, median, mode and variance\n",
    "#Hint - the above quantites can be computed with a single line of code\n",
    "#       eg for mean - google numpy mean and pay attention to axis keyword\n",
    "\n",
    "xMean = np.mean(X, axis = 0)\n",
    "xMin = np.min(X, axis = 0)\n",
    "xMax = np.max(X, axis = 0)\n",
    "xMedian = np.median(X, axis = 0)\n",
    "\n",
    "from scipy import stats\n",
    "xMode = stats.mode(X, axis = 0)\n",
    "xVar = np.var(X, axis = 0)\n",
    "\n",
    "print(\"Mean of the feature vectors %.2f\",xMean)\n",
    "print(\"Min of the feature vectors \",xMin)\n",
    "print(\"Max of the feature vectors \",xMax)\n",
    "print(\"Median of the feature vectors \",xMedian)\n",
    "print(\"Mode of the feature vectors \",xMode)\n",
    "print(\"Var of the feature vectors \",xVar)"
   ]
  },
  {
   "cell_type": "code",
   "execution_count": 28,
   "metadata": {},
   "outputs": [
    {
     "name": "stdout",
     "output_type": "stream",
     "text": [
      "[-4.58980774e-15  1.77832551e-15 -1.97991706e-16  1.58393365e-16\n",
      "  4.28382055e-16 -8.99962301e-18 -3.23986428e-17  6.11974365e-17\n",
      " -4.67980397e-17 -1.79992460e-18 -3.14986805e-17 -1.29594571e-16\n",
      " -5.03978889e-17  5.03978889e-17  7.19969841e-17 -7.55968333e-17\n",
      " -1.19694986e-16 -4.53581000e-16 -2.96987559e-17  2.30390349e-16\n",
      " -3.95983412e-17 -9.53960039e-17  1.57999631e-16  2.87987936e-17\n",
      "  6.16474176e-17  2.15990952e-17  1.12495288e-18]\n",
      "[1. 1. 1. 1. 1. 1. 1. 1. 1. 1. 1. 1. 1. 1. 1. 1. 1. 1. 1. 1. 1. 1. 1. 1.\n",
      " 1. 1. 1.]\n"
     ]
    }
   ],
   "source": [
    "# We can easily see that each feature vector is having significantly different statistical quantities\n",
    "# Before applying any learning algorithm, its always good idea to standardize the dataset \n",
    "# One way to standardize is to have each feature as zero mean and unit variance, which is achieved by subtracting mean\n",
    "# and dividing by variance\n",
    "\n",
    "#Ques 2.b Normalize the input features (2 points)\n",
    "\n",
    "X_Norm = (X - X.mean(axis = 0))/(X.std(axis = 0)) #Enter your code here.\n",
    "\n",
    "#check that normalization worked\n",
    "print(np.mean(X_Norm, axis = 0))\n",
    "print(np.var(X_Norm, axis = 0))"
   ]
  },
  {
   "cell_type": "code",
   "execution_count": 30,
   "metadata": {},
   "outputs": [],
   "source": [
    "# Our main goal in machine learning is to get the model that generalizes well. In other words, we want a ML model that \n",
    "# does not overfit and gives good predictions for the inputs outside its training domain. \n",
    "# One way to achieve is to have a dedicated test set on which you measure the performance of your learning algorithm.\n",
    "# Scikit-learn gives a convenient function to split your data into training and test set\n",
    "\n",
    "from sklearn.model_selection import train_test_split\n",
    "\n",
    "\n",
    "#Ques 2.c Use train_test_split function to have 80% Training set and 20% test set (2 points) \n",
    "\n",
    "X_train, X_test, y_train, y_test = train_test_split(X_Norm, Y, test_size = 0.2)"
   ]
  },
  {
   "cell_type": "code",
   "execution_count": 31,
   "metadata": {},
   "outputs": [],
   "source": [
    "# Great -- Now we have training set + test set and we are ready to implement our first ML model\n",
    "# We will start with linear model from Scikit-Learn or SKLearn.\n",
    "# A linear regressor model can be imported using the following command\n",
    "from sklearn.linear_model import LinearRegression\n",
    "\n",
    "#Declare a linear regression model\n",
    "linModel = LinearRegression() "
   ]
  },
  {
   "cell_type": "code",
   "execution_count": 33,
   "metadata": {},
   "outputs": [],
   "source": [
    "#Ques 2.d Use linModel to fit linear model on X_train and Y_train (3 points)\n",
    "#Hint - google sklearn LinearRegression fit function \n",
    "\n",
    "reg = linModel.fit(X_train, y_train)"
   ]
  },
  {
   "cell_type": "code",
   "execution_count": 49,
   "metadata": {},
   "outputs": [
    {
     "name": "stdout",
     "output_type": "stream",
     "text": [
      "The R^2 is 0.94\n"
     ]
    }
   ],
   "source": [
    "#Ques 2.e Evaluate your fit using score function or compute mean squared error (2 points)\n",
    "\n",
    "from sklearn.metrics import mean_squared_error, r2_score\n",
    "\n",
    "print('The R^2 is %.2f'%reg.score(X_train, y_train))\n",
    "\n",
    "\n"
   ]
  },
  {
   "cell_type": "markdown",
   "metadata": {},
   "source": [
    "The $R^2$ of 0.94 suggests a very good training fit . We have not yet evaluated the model on the test set yet, so it is not yet possible to say if the model is over fitted."
   ]
  },
  {
   "cell_type": "code",
   "execution_count": 51,
   "metadata": {},
   "outputs": [
    {
     "name": "stdout",
     "output_type": "stream",
     "text": [
      "Mean squared error: 927.44\n",
      "R2 test error: 0.94\n"
     ]
    }
   ],
   "source": [
    "#Ques 2.f Make predictions on test set. This is the most crucial step in any data science project i.e. ability of your\n",
    "# model to make good predictions on the data that your model hasn't seen. Error on test set can help you to decide\n",
    "# between different models, hyperparameter selection (more in the coming labs). (3 points)\n",
    "\n",
    "# use predict function to compute y_test_est\n",
    "y_test_est = reg.predict(X_test)\n",
    "\n",
    "#compute mean squared error\n",
    "err_test = mean_squared_error(y_test, y_test_est)\n",
    "err_r = r2_score(y_test, y_test_est)\n",
    "\n",
    "print('Mean squared error: %.2f'%err_test)\n",
    "print('R2 test error: %.2f'%err_r)"
   ]
  },
  {
   "cell_type": "code",
   "execution_count": 57,
   "metadata": {},
   "outputs": [
    {
     "data": {
      "text/plain": [
       "12633"
      ]
     },
     "execution_count": 57,
     "metadata": {},
     "output_type": "execute_result"
    }
   ],
   "source": [
    "len(y_test_est)"
   ]
  },
  {
   "cell_type": "code",
   "execution_count": 75,
   "metadata": {},
   "outputs": [
    {
     "data": {
      "text/plain": [
       "Text(0.5, 1.0, 'Estimated vs actual y-values')"
      ]
     },
     "execution_count": 75,
     "metadata": {},
     "output_type": "execute_result"
    },
    {
     "data": {
      "image/png": "[encoded data removed]",
      "text/plain": [
       "<Figure size 432x288 with 1 Axes>"
      ]
     },
     "metadata": {
      "needs_background": "light"
     },
     "output_type": "display_data"
    }
   ],
   "source": [
    "#Ques 2.g (4 points)\n",
    "\n",
    "#Use matplotlib or any other plotting library of your choice to plot y_test vs y_test_est\n",
    "# Label the axes accordingly\n",
    "\n",
    "import seaborn as sns\n",
    "\n",
    "sns.set_context('paper', rc = {'sans-serif':'Helvetica-Neue'})\n",
    "\n",
    "fig, ax = plt.subplots(1, 1)\n",
    "\n",
    "plt.scatter(y_test, y_test_est, alpha = 0.2)\n",
    "\n",
    "plt.xlabel('Actual y-test values')\n",
    "plt.ylabel('Estimated y-test values')\n",
    "plt.title('Estimated vs actual y-values')"
   ]
  },
  {
   "cell_type": "markdown",
   "metadata": {},
   "source": [
    "The strong linear relationship between the estimate and actual y-values suggests that model is appropiated. Additionally, this linear relationship holds across the range of y-values, further implying that the model is good across the whole range of data"
   ]
  }
 ],
 "metadata": {
  "kernelspec": {
   "display_name": "Python 3",
   "language": "python",
   "name": "python3"
  },
  "language_info": {
   "codemirror_mode": {
    "name": "ipython",
    "version": 3
   },
   "file_extension": ".py",
   "mimetype": "text/x-python",
   "name": "python",
   "nbconvert_exporter": "python",
   "pygments_lexer": "ipython3",
   "version": "3.6.10"
  }
 },
 "nbformat": 4,
 "nbformat_minor": 4
}
