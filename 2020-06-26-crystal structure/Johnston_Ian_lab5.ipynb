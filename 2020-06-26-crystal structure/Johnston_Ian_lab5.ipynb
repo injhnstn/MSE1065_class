{
 "cells": [
  {
   "cell_type": "markdown",
   "metadata": {},
   "source": [
    "# Lab -  5 Logistic Regression"
   ]
  },
  {
   "cell_type": "markdown",
   "metadata": {},
   "source": [
    "#### Packages needed\n",
    "\n",
    "<ol>\n",
    "    <li> numpy </li>\n",
    "    <li> matplotlib </li>\n",
    "    <li> SKlearn </li>\n",
    "\n",
    "</ol>"
   ]
  },
  {
   "cell_type": "markdown",
   "metadata": {},
   "source": [
    "In this lab, we are going to perform classification of elements as 'FCC', 'BCC','HCP', given their elemental attributes. The attributes or input features to our model include atomic mass, electronegativity, ionic radius etc.\n",
    "\n",
    "This lab is having 15 questions and is worth 30 points.\n",
    "\n",
    "Detailed list of the input element attributes is provided below "
   ]
  },
  {
   "cell_type": "code",
   "execution_count": 1,
   "metadata": {},
   "outputs": [],
   "source": [
    "element_attributes = [\"atomic_number\", \"atomic_volume\", \"boiling_point\", \"en_ghosh\",  \"evaporation_heat\", \"heat_of_formation\",\n",
    "                     \"lattice_constant\", \"melting_point\", \"specific_heat\",\"atomic_mass\", \"atomic_radius\", \n",
    "                      \"electrical_resistivity\",\"molar_volume\", \"bulk_modulus\", \"youngs_modulus\",\n",
    "                     \"average_ionic_radius\", \"density_of_solid\", \"coefficient_of_linear_thermal_expansion\"]"
   ]
  },
  {
   "cell_type": "markdown",
   "metadata": {},
   "source": [
    "The data for 47 element is provided in the file 'inputX.csv' and corresponding structure values are provided in 'origSt.csv'. Load the csv files into appropriate data variables"
   ]
  },
  {
   "cell_type": "code",
   "execution_count": 2,
   "metadata": {},
   "outputs": [],
   "source": [
    "# import libraries\n",
    "import numpy as np \n",
    "#import pandas as pd\n",
    "inputX = np.loadtxt(open(\"inputX.csv\", \"rb\"), delimiter=\",\")#pd.read_csv('inputX.csv')\n",
    "outY = np.loadtxt(open(\"origSt.csv\", \"rb\"),dtype='str',delimiter=\",\") #pd.read_csv('origSt.csv')"
   ]
  },
  {
   "cell_type": "markdown",
   "metadata": {},
   "source": [
    "### Data visualization"
   ]
  },
  {
   "cell_type": "markdown",
   "metadata": {},
   "source": [
    "Its always a good idea to get the sense of data distribution before running any Machine learning algorithm."
   ]
  },
  {
   "cell_type": "markdown",
   "metadata": {},
   "source": [
    "Ques 5.1 (1.5 marks) Compute mean,standard deviation, minimum and maximum of each feature in inputX. Print these quantities to see how features are varying in terms of these quantities"
   ]
  },
  {
   "cell_type": "code",
   "execution_count": 3,
   "metadata": {},
   "outputs": [
    {
     "name": "stdout",
     "output_type": "stream",
     "text": [
      "Mean [4.77021277e+01 1.61636170e+01 3.09652872e+03 1.65691845e-01\n",
      " 3.51072340e+02 3.84488511e+02 3.81702128e+00 1.67153851e+03\n",
      " 4.19893617e-01 1.14381436e+02 1.58510638e+00 3.06478723e-07\n",
      " 1.60868085e+01 1.13617021e+02 1.30978723e+02 9.64540780e-01\n",
      " 8.80259574e+03 1.89851064e-05]\n",
      "std [2.39217829e+01 1.21666306e+01 1.36803222e+03 4.66761915e-02\n",
      " 1.90787483e+02 2.04438972e+02 1.13255861e+00 8.06329844e+02\n",
      " 5.54257074e-01 6.24201223e+01 2.88598022e-01 3.64019282e-07\n",
      " 1.21597832e+01 9.85172354e+01 1.29978283e+02 2.46239215e-01\n",
      " 5.49216186e+03 1.99080758e-05]\n",
      "minX [3.0000e+00 5.0000e+00 9.5160e+02 9.3214e-02 5.9100e+01 7.6500e+01\n",
      " 2.2900e+00 3.0160e+02 1.1300e-01 6.9410e+00 1.0500e+00 1.6300e-08\n",
      " 4.8500e+00 1.6000e+00 1.7000e+00 5.9000e-01 5.3500e+02 4.5000e-06]\n",
      "maxX [9.0000000e+01 7.0000000e+01 5.9300000e+03 2.6137000e-01 8.2400000e+02\n",
      " 8.5100000e+02 8.8900000e+00 3.6800000e+03 3.4890000e+00 2.3203806e+02\n",
      " 2.6000000e+00 1.4400000e-06 7.0940000e+01 3.8000000e+02 5.2800000e+02\n",
      " 1.8100000e+00 2.2650000e+04 9.7000000e-05]\n"
     ]
    }
   ],
   "source": [
    "# Enter your code here\n",
    "meanX = inputX.mean(axis = 0)\n",
    "stdX = inputX.std(axis = 0)\n",
    "minX = inputX.min(axis = 0)\n",
    "maxX = inputX.max(axis = 0)\n",
    "\n",
    "print(\"Mean\", meanX)\n",
    "print('std', stdX)\n",
    "print('minX', minX)\n",
    "print('maxX', maxX)\n"
   ]
  },
  {
   "cell_type": "markdown",
   "metadata": {},
   "source": [
    "Ques 5.2 (0.5 marks) Get the unique labels of output Y. Its a good idea to understand different labels we are dealing with"
   ]
  },
  {
   "cell_type": "code",
   "execution_count": 4,
   "metadata": {},
   "outputs": [
    {
     "data": {
      "text/plain": [
       "array(['bcc', 'fcc', 'hcp'], dtype='<U3')"
      ]
     },
     "execution_count": 4,
     "metadata": {},
     "output_type": "execute_result"
    }
   ],
   "source": [
    "#Generate an array of strings that are unique in the output\n",
    "np.unique(outY)"
   ]
  },
  {
   "cell_type": "markdown",
   "metadata": {},
   "source": [
    "### Normalization"
   ]
  },
  {
   "cell_type": "markdown",
   "metadata": {},
   "source": [
    "Ques 5.3 ( 1 mark) Use the mean and standard deviation as computed in Ques 5.1 to get the normalized features"
   ]
  },
  {
   "cell_type": "code",
   "execution_count": 5,
   "metadata": {},
   "outputs": [
    {
     "name": "stdout",
     "output_type": "stream",
     "text": [
      "Mean [ 6.14165929e-17  4.72435330e-16  3.44877791e-16  3.21256024e-16\n",
      " -7.55896527e-17  4.55900093e-16 -2.40351474e-16  6.73220345e-17\n",
      "  4.08656560e-16  6.04717222e-16  1.99131491e-15 -7.08652994e-18\n",
      " -4.01570030e-16 -1.79525425e-16  8.03140060e-17 -4.29916150e-16\n",
      " -2.83461198e-17  2.57477255e-16]\n",
      "std [1. 1. 1. 1. 1. 1. 1. 1. 1. 1. 1. 1. 1. 1. 1. 1. 1. 1.]\n"
     ]
    }
   ],
   "source": [
    "# normalize as usual\n",
    "dt_norm = (inputX - meanX)/stdX\n",
    "\n",
    "#check the work\n",
    "print('Mean', dt_norm.mean(axis = 0))\n",
    "#values are pretty close to zero\n",
    "\n",
    "print('std', dt_norm.var(axis = 0))"
   ]
  },
  {
   "cell_type": "markdown",
   "metadata": {},
   "source": [
    "Ques 5.4 (1 mark) Check if there is any nan or infinity in your normalized features. Hint - Google numpy's isNan and isInf functions"
   ]
  },
  {
   "cell_type": "code",
   "execution_count": 6,
   "metadata": {},
   "outputs": [
    {
     "data": {
      "text/plain": [
       "array([], shape=(0, 2), dtype=int64)"
      ]
     },
     "execution_count": 6,
     "metadata": {},
     "output_type": "execute_result"
    }
   ],
   "source": [
    "#find the indicies where the values are NaN\n",
    "\n",
    "np.argwhere(np.isnan(dt_norm))"
   ]
  },
  {
   "cell_type": "markdown",
   "metadata": {},
   "source": [
    "Comment: no values of the input data array are Nan. Nice and clean data"
   ]
  },
  {
   "cell_type": "markdown",
   "metadata": {},
   "source": [
    "### Train test split"
   ]
  },
  {
   "cell_type": "markdown",
   "metadata": {},
   "source": [
    "Ques 5.5 (1 mark) Use SKlearn to divide the data into train and test set"
   ]
  },
  {
   "cell_type": "code",
   "execution_count": 7,
   "metadata": {},
   "outputs": [],
   "source": [
    "#import dependecies\n",
    "from sklearn.model_selection import train_test_split\n",
    "\n",
    "#split data, 20% for testing\n",
    "X_train, X_test, y_train, y_test = train_test_split(dt_norm, outY, test_size = 0.2)\n"
   ]
  },
  {
   "cell_type": "markdown",
   "metadata": {},
   "source": [
    "### Logistic regression"
   ]
  },
  {
   "cell_type": "markdown",
   "metadata": {},
   "source": [
    "Ques 5.6 (2 marks) Use LogisticRegression class from SKLearn to fit model on training set. Using this class is very similar to Linear regression class we used in the last lab. More information can be found here https://scikit-learn.org/stable/modules/generated/sklearn.linear_model.LogisticRegression.html"
   ]
  },
  {
   "cell_type": "code",
   "execution_count": 8,
   "metadata": {},
   "outputs": [],
   "source": [
    "# import dependecies\n",
    "from sklearn.linear_model import LogisticRegression\n",
    "\n",
    "# define the model\n",
    "\n",
    "clf = LogisticRegression(random_state = 0).fit(X_train, y_train)"
   ]
  },
  {
   "cell_type": "markdown",
   "metadata": {},
   "source": [
    "Ques 5.7 (2 marks) Get the predictions on training set and compute mean classification error.\n",
    "\n",
    "Classification error or misclassification happens when your model is predicting different label than the correct output. Mean classification error is average number of misclassification. You can approach this question by counting the number of times your ML model is predicting different than true label. Divide this number by your training or test set size and that will give you mean classification error."
   ]
  },
  {
   "cell_type": "code",
   "execution_count": 9,
   "metadata": {},
   "outputs": [
    {
     "name": "stdout",
     "output_type": "stream",
     "text": [
      "mean classification error: 0.02\n"
     ]
    }
   ],
   "source": [
    "#find y_predictions\n",
    "\n",
    "y_pred = clf.predict(X_train)\n",
    "\n",
    "#How many times does the model successfully or unsuccessfully predict the correct crystal structure?\n",
    "correct_matches = np.sum(np.where(y_pred == y_train))\n",
    "false_matches = np.sum(np.where(y_pred != y_train))\n",
    "\n",
    "print('mean classification error: %0.2f' % (false_matches/(correct_matches + false_matches)))"
   ]
  },
  {
   "cell_type": "markdown",
   "metadata": {},
   "source": [
    "Ques 5.8 (1 mark) Get the predictions on test set and compute mean classification error on test set."
   ]
  },
  {
   "cell_type": "code",
   "execution_count": 10,
   "metadata": {},
   "outputs": [
    {
     "name": "stdout",
     "output_type": "stream",
     "text": [
      "mean classification error: 0.42\n"
     ]
    }
   ],
   "source": [
    "#find y_predictions\n",
    "\n",
    "y_pred = clf.predict(X_test)\n",
    "\n",
    "#How many times does the model successfully or unsuccessfully predict the correct crystal structure?\n",
    "correct_matches = np.sum(np.where(y_pred == y_test))\n",
    "false_matches = np.sum(np.where(y_pred != y_test))\n",
    "\n",
    "print('mean classification error: %0.2f' % (false_matches/(correct_matches + false_matches)))"
   ]
  },
  {
   "cell_type": "markdown",
   "metadata": {},
   "source": [
    "Let's view the model that has been trained. Our model is linear and parametrized through weights of each feature. The values of these weights define our model. We can access the values of these coefficints through the following command"
   ]
  },
  {
   "cell_type": "markdown",
   "metadata": {},
   "source": [
    "Ques 5.9 (1 mark) Print the coefficients of logistic regression. Hint :- Look into coef_ method of your classifier"
   ]
  },
  {
   "cell_type": "code",
   "execution_count": 11,
   "metadata": {},
   "outputs": [
    {
     "data": {
      "text/plain": [
       "array([[-0.28265561,  0.33582239,  0.04462958, -0.22072336,  0.26444536,\n",
       "         0.27379703,  0.75017954,  0.69100853,  0.07824355, -0.3010038 ,\n",
       "         0.19106422,  0.1613959 ,  0.29176459,  0.10309627,  0.26969257,\n",
       "         0.49292855, -0.29655331,  0.56946259],\n",
       "       [ 0.09897025, -0.25668554, -0.18904618,  0.34067   , -0.14725402,\n",
       "        -0.14810266,  0.92394232, -0.59276884,  0.00213467,  0.0796183 ,\n",
       "        -0.33986679, -0.90657065, -0.21607867,  0.52802813, -0.31132302,\n",
       "        -0.35591264,  0.2230237 , -0.22467284],\n",
       "       [ 0.18368536, -0.07913685,  0.1444166 , -0.11994664, -0.11719134,\n",
       "        -0.12569438, -1.67412186, -0.09823969, -0.08037822,  0.2213855 ,\n",
       "         0.14880257,  0.74517475, -0.07568592, -0.63112441,  0.04163045,\n",
       "        -0.13701591,  0.07352961, -0.34478975]])"
      ]
     },
     "execution_count": 11,
     "metadata": {},
     "output_type": "execute_result"
    }
   ],
   "source": [
    "clf.coef_"
   ]
  },
  {
   "cell_type": "markdown",
   "metadata": {},
   "source": [
    "What you see above is a matrix of dimension (number of classes , number of features). Under the hood, LogisticRegression is performing one versus all classification. Since we have three classes, we get three models corresponding to each row. When we use the above model for predictions, LogisticRegression fit three different models and provide the class label with highest score."
   ]
  },
  {
   "cell_type": "markdown",
   "metadata": {},
   "source": [
    "### Regularized logistic regression"
   ]
  },
  {
   "cell_type": "markdown",
   "metadata": {},
   "source": [
    "Performing regularization in SKLearn is very easy. The LogisticRegression class has a parameter 'C' which defines the inverse penalty of regularization term. The default regularization is 'L2' i.e. we minimize the euclidean norm of the weights, equivalent to performing reglarization in linear regression. \n",
    "\n",
    "In this part of the lab, we will check the performance of logistic regression model as we vary C"
   ]
  },
  {
   "cell_type": "markdown",
   "metadata": {},
   "source": [
    "##### Please report average misclassification error on both training and test set for all the questions below"
   ]
  },
  {
   "cell_type": "markdown",
   "metadata": {},
   "source": [
    "Ques 5.10 (4 marks) - Fit a logistic regression model for C=0.1. Compute average number of correct predictions made on both training and test set. Also print the number of non-zero coefficients in your model. Hint :- numpy's count_nonzero function"
   ]
  },
  {
   "cell_type": "code",
   "execution_count": 12,
   "metadata": {},
   "outputs": [
    {
     "name": "stdout",
     "output_type": "stream",
     "text": [
      "The value of C is: 0.1\n",
      "mean classification error (train): 0.09\n",
      "mean classification error (test): 0.42\n",
      "Non-zero coefficients: 54\n",
      "The value of C is: 10\n",
      "mean classification error (train): 0.02\n",
      "mean classification error (test): 0.22\n",
      "Non-zero coefficients: 54\n",
      "The value of C is: 100\n",
      "mean classification error (train): 0.00\n",
      "mean classification error (test): 0.04\n",
      "Non-zero coefficients: 54\n"
     ]
    }
   ],
   "source": [
    "values = [0.1, 10, 100]\n",
    "\n",
    "for value in values:\n",
    "    print('The value of C is: ' + str(value))\n",
    "    \n",
    "    # define the model\n",
    "\n",
    "    clf = LogisticRegression(C = value).fit(X_train, y_train)\n",
    "\n",
    "    # get predicitons\n",
    "    y_train_predict = clf.predict(X_train)\n",
    "    y_test_predict = clf.predict(X_test)\n",
    "\n",
    "\n",
    "    #How many times does the model successfully or unsuccessfully predict the correct crystal structure?\n",
    "    correct_matches = np.sum(np.where(y_train_predict == y_train))\n",
    "    false_matches = np.sum(np.where(y_train_predict != y_train))\n",
    "\n",
    "    print('mean classification error (train): %0.2f' % (false_matches/(correct_matches + false_matches)))\n",
    "\n",
    "    #How many times does the model successfully or unsuccessfully predict the correct crystal structure?\n",
    "    correct_matches = np.sum(np.where(y_test_predict == y_test))\n",
    "    false_matches = np.sum(np.where(y_test_predict != y_test))\n",
    "\n",
    "    print('mean classification error (test): %0.2f' % (false_matches/(correct_matches + false_matches)))\n",
    "\n",
    "    print('Non-zero coefficients: %0.0f' %np.count_nonzero(clf.coef_))"
   ]
  },
  {
   "cell_type": "markdown",
   "metadata": {},
   "source": [
    "Ques 5.11 (3 marks) - Fit a logistic regression model for C=10.0. Compute average number of correct predictions made on both training and test set. Also print the number of non-zero coefficients in your model."
   ]
  },
  {
   "cell_type": "markdown",
   "metadata": {},
   "source": [
    "See above"
   ]
  },
  {
   "cell_type": "markdown",
   "metadata": {},
   "source": [
    "Ques 5.12 (3 marks) - Fit a logistic regression model for C=100. Compute average number of correct predictions made on both training and test set. Also print the number of non-zero coefficients in your model."
   ]
  },
  {
   "cell_type": "markdown",
   "metadata": {},
   "source": [
    "See above"
   ]
  },
  {
   "cell_type": "markdown",
   "metadata": {},
   "source": [
    "### Feature selection through L-1 Norm/ Spare logistic regression"
   ]
  },
  {
   "cell_type": "markdown",
   "metadata": {},
   "source": [
    "As mentioned in the last lab, one way to select features is to penalize the sum of absolute values of weights. This will result in sparse model, allowing you to select the features with non-zero weights. In this part of the lab we will train a sparse logistic regression model and assess its performance as compared to full model.\n",
    "\n",
    "Train a sparse logistic regression model by setting penalty argument in LogisticRegression to L-1. Compute mean number of correct predictions with respect to different values of C. Also compute the number of non-zero weights."
   ]
  },
  {
   "cell_type": "markdown",
   "metadata": {},
   "source": [
    "Ques 5.13 (3 marks) - Fit a sparse logistic regression model for C=0.1. Compute average number of correct predictions made on both training and test set. Also compute the number of nonzero weights and compare them to the ones obtained in Ques 5.10."
   ]
  },
  {
   "cell_type": "code",
   "execution_count": 13,
   "metadata": {},
   "outputs": [
    {
     "name": "stdout",
     "output_type": "stream",
     "text": [
      "C value is 0.1\n",
      "mean classification error (train): 0.38\n",
      "mean classification error (test): 0.64\n",
      "Non-zero coefficients: 1\n",
      "C value is 10\n",
      "mean classification error (train): 0.02\n",
      "mean classification error (test): 0.40\n",
      "Non-zero coefficients: 25\n",
      "C value is 100\n",
      "mean classification error (train): 0.00\n",
      "mean classification error (test): 0.20\n",
      "Non-zero coefficients: 29\n"
     ]
    }
   ],
   "source": [
    "values = [0.1, 10, 100]\n",
    "\n",
    "for value in values:\n",
    "    print('C value is ' + str(value))\n",
    "    \n",
    "    # define the model\n",
    "\n",
    "    clf = LogisticRegression(C = value, solver = 'liblinear', penalty = 'l1').fit(X_train, y_train)\n",
    "\n",
    "    # get predicitons\n",
    "    y_train_predict = clf.predict(X_train)\n",
    "    y_test_predict = clf.predict(X_test)\n",
    "\n",
    "\n",
    "    #How many times does the model successfully or unsuccessfully predict the correct crystal structure?\n",
    "    correct_matches = np.sum(np.where(y_train_predict == y_train))\n",
    "    false_matches = np.sum(np.where(y_train_predict != y_train))\n",
    "\n",
    "    print('mean classification error (train): %0.2f' % (false_matches/(correct_matches + false_matches)))\n",
    "\n",
    "    #How many times does the model successfully or unsuccessfully predict the correct crystal structure?\n",
    "    correct_matches = np.sum(np.where(y_test_predict == y_test))\n",
    "    false_matches = np.sum(np.where(y_test_predict != y_test))\n",
    "\n",
    "    print('mean classification error (test): %0.2f' % (false_matches/(correct_matches + false_matches)))\n",
    "\n",
    "    print('Non-zero coefficients: %0.0f' %np.count_nonzero(clf.coef_))"
   ]
  },
  {
   "cell_type": "markdown",
   "metadata": {},
   "source": [
    "Ques 5.14 (3 marks) - Fit a sparse logistic regression model for C=10. Compute average number of correct predictions made on both training and test set. Also compute the number of nonzero weights and compare them to the ones obtained in Ques 5.11."
   ]
  },
  {
   "cell_type": "markdown",
   "metadata": {},
   "source": [
    "Please see above"
   ]
  },
  {
   "cell_type": "markdown",
   "metadata": {},
   "source": [
    "Ques 5.15 (3 marks) - Fit a sparse logistic regression model for C=100. Compute average number of correct predictions made on both training and test set. Also compute the number of nonzero weights and compare them to the ones obtained in Ques 5.12."
   ]
  },
  {
   "cell_type": "markdown",
   "metadata": {},
   "source": [
    "Please see above"
   ]
  },
  {
   "cell_type": "markdown",
   "metadata": {},
   "source": [
    "### Optional"
   ]
  },
  {
   "cell_type": "markdown",
   "metadata": {},
   "source": [
    "Perform k-fold cross validation and check the performance in similar manner as above"
   ]
  },
  {
   "cell_type": "markdown",
   "metadata": {},
   "source": [
    "Glmnet is another library to get sparse models. If you are interested, I highly recommend to go through their tutorials in python and try the logistic regression model on this dataset or other datasets of your choice. You can check the sparsity by comparing the non-zero weights of LogisticRegression models here with the ones obtained by Glmnet.\n",
    "\n",
    "More information on Glmnet can be found here https://glmnet-python.readthedocs.io/en/latest/glmnet_vignette.html"
   ]
  },
  {
   "cell_type": "markdown",
   "metadata": {},
   "source": [
    "If you are comfortable with classical ML methods, I will suggest to look into Bayesian linear regression models. Metacademy (developed by Prof. Roger Grosse at CS department) holds very useful ML related links. Please follow this link if you are feeling adventurous to switch to Bayesian regime https://metacademy.org/graphs/concepts/bayesian_logistic_regression"
   ]
  },
  {
   "cell_type": "code",
   "execution_count": 14,
   "metadata": {},
   "outputs": [
    {
     "data": {
      "image/png": "[encoded data removed]",
      "text/plain": [
       "<Figure size 576x432 with 1 Axes>"
      ]
     },
     "metadata": {
      "needs_background": "light"
     },
     "output_type": "display_data"
    }
   ],
   "source": [
    "#Adapted From the Sklearn tutorial on k-fold cross valadtion and grid search\n",
    "# https://scikit-learn.org/stable/auto_examples/exercises/plot_cv_diabetes.html#sphx-glr-auto-examples-exercises-plot-cv-diabetes-py\n",
    "\n",
    "from sklearn.model_selection import GridSearchCV\n",
    "import matplotlib.pyplot as plt\n",
    "\n",
    "#Define model\n",
    "Log_Reg = LogisticRegression(solver = 'liblinear', penalty = 'l1')\n",
    "\n",
    "#specify parameters to search\n",
    "Cs = np.geomspace(0.00001, 1000000, 12)\n",
    "paramters = {'C': Cs}\n",
    "n_folds = 12 # do ten-fold cross validation\n",
    "\n",
    "\n",
    "#initialize grid search\n",
    "clf = GridSearchCV(Log_Reg, paramters, cv = n_folds, refit = False)\n",
    "\n",
    "#train model\n",
    "clf.fit(dt_norm, outY) # use unsplit data\n",
    "\n",
    "#extract scores from the model\n",
    "scores = clf.cv_results_['mean_test_score']\n",
    "scores_std = clf.cv_results_['std_test_score']\n",
    "\n",
    "#plottting\n",
    "#------------------------------------------------------\n",
    "plt.figure().set_size_inches(8, 6)\n",
    "plt.semilogx(Cs, scores)\n",
    "\n",
    "# plot error lines showing +/- std. errors of the scores\n",
    "std_error = scores_std / np.sqrt(n_folds)\n",
    "\n",
    "plt.semilogx(Cs, scores + std_error, 'b--')\n",
    "plt.semilogx(Cs, scores - std_error, 'b--')\n",
    "\n",
    "# alpha=0.2 controls the translucency of the fill color\n",
    "plt.fill_between(Cs, scores + std_error, scores - std_error, alpha=0.2)\n",
    "\n",
    "plt.ylabel('CV score +/- std error')\n",
    "plt.xlabel('C-Value')\n",
    "plt.axhline(np.max(scores), linestyle='--', color='.5')\n",
    "plt.xlim([Cs[0], Cs[-1]])\n",
    "plt.title('CV score vs C-value')\n",
    "\n",
    "\n",
    "plt.show()"
   ]
  }
 ],
 "metadata": {
  "kernelspec": {
   "display_name": "Python 3",
   "language": "python",
   "name": "python3"
  },
  "language_info": {
   "codemirror_mode": {
    "name": "ipython",
    "version": 3
   },
   "file_extension": ".py",
   "mimetype": "text/x-python",
   "name": "python",
   "nbconvert_exporter": "python",
   "pygments_lexer": "ipython3",
   "version": "3.6.10"
  }
 },
 "nbformat": 4,
 "nbformat_minor": 4
}
