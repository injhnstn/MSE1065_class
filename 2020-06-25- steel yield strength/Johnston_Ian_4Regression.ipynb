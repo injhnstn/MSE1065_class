{
 "cells": [
  {
   "cell_type": "markdown",
   "metadata": {},
   "source": [
    "### Lab 4 - Regression using linear models"
   ]
  },
  {
   "cell_type": "markdown",
   "metadata": {},
   "source": [
    "The purpose of this lab is to learn and implement various Linear regression models. The models will predict the fatigue of steel given various process parameters. The data is stored in the csv file provided and cell below read it in a Pandas dataframe.\n",
    "\n",
    "The lab is worth 30 marks plus additional 2 marks for bonus questions. Instructions for each part is provided in the corresponding cells. Please contact the TA if any instruction is not clear."
   ]
  },
  {
   "cell_type": "markdown",
   "metadata": {},
   "source": [
    "#### Packages required\n",
    "\n",
    "<ol>\n",
    "    <li> Numpy </li>\n",
    "    <li> Matplotlib </li>\n",
    "    <li> Pandas </li>\n",
    "    <li> SKLearn </li>\n",
    "\n",
    "</ol>"
   ]
  },
  {
   "cell_type": "markdown",
   "metadata": {},
   "source": [
    "### Loading dataset"
   ]
  },
  {
   "cell_type": "code",
   "execution_count": 1,
   "metadata": {},
   "outputs": [],
   "source": [
    "import numpy as np\n",
    "import pandas as pd\n",
    "import matplotlib.pyplot as plt\n",
    "%matplotlib inline\n",
    "\n",
    "# Loading data here \n",
    "data_file = \"40192_2013_16_MOESM1_ESM.csv\"\n",
    "df_loaded = pd.read_csv(data_file)"
   ]
  },
  {
   "cell_type": "markdown",
   "metadata": {},
   "source": [
    "Its always good idea to explore the data that is given to us. The dataset includes chemical compositions and various process parameters. Using these as inputs, we will try to predict fatigue in the steel samples. More details can be found at A.Agrawal et.al. (2014), \"Exploration of data science techniques to predict fatigue strength of steel from composition and processing parameters\", IMMI\n",
    "\n",
    "Ques 4.1 (1.5 points) Get the mean, minimum and maximum of each column of the pandas data frame 'df_loaded'."
   ]
  },
  {
   "cell_type": "code",
   "execution_count": 3,
   "metadata": {},
   "outputs": [
    {
     "data": {
      "text/html": [
       "<div>\n",
       "<style scoped>\n",
       "    .dataframe tbody tr th:only-of-type {\n",
       "        vertical-align: middle;\n",
       "    }\n",
       "\n",
       "    .dataframe tbody tr th {\n",
       "        vertical-align: top;\n",
       "    }\n",
       "\n",
       "    .dataframe thead th {\n",
       "        text-align: right;\n",
       "    }\n",
       "</style>\n",
       "<table border=\"1\" class=\"dataframe\">\n",
       "  <thead>\n",
       "    <tr style=\"text-align: right;\">\n",
       "      <th></th>\n",
       "      <th>Sl. No.</th>\n",
       "      <th>NT</th>\n",
       "      <th>THT</th>\n",
       "      <th>THt</th>\n",
       "      <th>THQCr</th>\n",
       "      <th>CT</th>\n",
       "      <th>Ct</th>\n",
       "      <th>DT</th>\n",
       "      <th>Dt</th>\n",
       "      <th>QmT</th>\n",
       "      <th>...</th>\n",
       "      <th>S</th>\n",
       "      <th>Ni</th>\n",
       "      <th>Cr</th>\n",
       "      <th>Cu</th>\n",
       "      <th>Mo</th>\n",
       "      <th>RedRatio</th>\n",
       "      <th>dA</th>\n",
       "      <th>dB</th>\n",
       "      <th>dC</th>\n",
       "      <th>Fatigue</th>\n",
       "    </tr>\n",
       "  </thead>\n",
       "  <tbody>\n",
       "    <tr>\n",
       "      <th>count</th>\n",
       "      <td>437.000000</td>\n",
       "      <td>437.000000</td>\n",
       "      <td>437.000000</td>\n",
       "      <td>437.000000</td>\n",
       "      <td>437.000000</td>\n",
       "      <td>437.000000</td>\n",
       "      <td>437.000000</td>\n",
       "      <td>437.000000</td>\n",
       "      <td>437.000000</td>\n",
       "      <td>437.000000</td>\n",
       "      <td>...</td>\n",
       "      <td>437.000000</td>\n",
       "      <td>437.000000</td>\n",
       "      <td>437.000000</td>\n",
       "      <td>437.000000</td>\n",
       "      <td>437.000000</td>\n",
       "      <td>437.000000</td>\n",
       "      <td>437.000000</td>\n",
       "      <td>437.000000</td>\n",
       "      <td>437.000000</td>\n",
       "      <td>437.000000</td>\n",
       "    </tr>\n",
       "    <tr>\n",
       "      <th>mean</th>\n",
       "      <td>219.000000</td>\n",
       "      <td>872.299771</td>\n",
       "      <td>737.643021</td>\n",
       "      <td>25.949657</td>\n",
       "      <td>10.654462</td>\n",
       "      <td>128.855835</td>\n",
       "      <td>40.502059</td>\n",
       "      <td>123.699844</td>\n",
       "      <td>4.843936</td>\n",
       "      <td>35.491991</td>\n",
       "      <td>...</td>\n",
       "      <td>0.014611</td>\n",
       "      <td>0.517048</td>\n",
       "      <td>0.570458</td>\n",
       "      <td>0.067780</td>\n",
       "      <td>0.069794</td>\n",
       "      <td>923.629291</td>\n",
       "      <td>0.047181</td>\n",
       "      <td>0.003391</td>\n",
       "      <td>0.007712</td>\n",
       "      <td>552.903890</td>\n",
       "    </tr>\n",
       "    <tr>\n",
       "      <th>std</th>\n",
       "      <td>126.295289</td>\n",
       "      <td>26.212073</td>\n",
       "      <td>280.036541</td>\n",
       "      <td>10.263824</td>\n",
       "      <td>7.841437</td>\n",
       "      <td>281.743539</td>\n",
       "      <td>126.924697</td>\n",
       "      <td>267.128933</td>\n",
       "      <td>15.700076</td>\n",
       "      <td>19.419277</td>\n",
       "      <td>...</td>\n",
       "      <td>0.006145</td>\n",
       "      <td>0.852976</td>\n",
       "      <td>0.411769</td>\n",
       "      <td>0.049161</td>\n",
       "      <td>0.088124</td>\n",
       "      <td>576.617020</td>\n",
       "      <td>0.031093</td>\n",
       "      <td>0.008240</td>\n",
       "      <td>0.010418</td>\n",
       "      <td>186.630528</td>\n",
       "    </tr>\n",
       "    <tr>\n",
       "      <th>min</th>\n",
       "      <td>1.000000</td>\n",
       "      <td>825.000000</td>\n",
       "      <td>30.000000</td>\n",
       "      <td>0.000000</td>\n",
       "      <td>0.000000</td>\n",
       "      <td>30.000000</td>\n",
       "      <td>0.000000</td>\n",
       "      <td>30.000000</td>\n",
       "      <td>0.000000</td>\n",
       "      <td>30.000000</td>\n",
       "      <td>...</td>\n",
       "      <td>0.003000</td>\n",
       "      <td>0.010000</td>\n",
       "      <td>0.010000</td>\n",
       "      <td>0.010000</td>\n",
       "      <td>0.000000</td>\n",
       "      <td>240.000000</td>\n",
       "      <td>0.000000</td>\n",
       "      <td>0.000000</td>\n",
       "      <td>0.000000</td>\n",
       "      <td>225.000000</td>\n",
       "    </tr>\n",
       "    <tr>\n",
       "      <th>25%</th>\n",
       "      <td>110.000000</td>\n",
       "      <td>865.000000</td>\n",
       "      <td>845.000000</td>\n",
       "      <td>30.000000</td>\n",
       "      <td>8.000000</td>\n",
       "      <td>30.000000</td>\n",
       "      <td>0.000000</td>\n",
       "      <td>30.000000</td>\n",
       "      <td>0.000000</td>\n",
       "      <td>30.000000</td>\n",
       "      <td>...</td>\n",
       "      <td>0.010000</td>\n",
       "      <td>0.020000</td>\n",
       "      <td>0.120000</td>\n",
       "      <td>0.020000</td>\n",
       "      <td>0.000000</td>\n",
       "      <td>590.000000</td>\n",
       "      <td>0.020000</td>\n",
       "      <td>0.000000</td>\n",
       "      <td>0.000000</td>\n",
       "      <td>448.000000</td>\n",
       "    </tr>\n",
       "    <tr>\n",
       "      <th>50%</th>\n",
       "      <td>219.000000</td>\n",
       "      <td>870.000000</td>\n",
       "      <td>845.000000</td>\n",
       "      <td>30.000000</td>\n",
       "      <td>8.000000</td>\n",
       "      <td>30.000000</td>\n",
       "      <td>0.000000</td>\n",
       "      <td>30.000000</td>\n",
       "      <td>0.000000</td>\n",
       "      <td>30.000000</td>\n",
       "      <td>...</td>\n",
       "      <td>0.015000</td>\n",
       "      <td>0.060000</td>\n",
       "      <td>0.710000</td>\n",
       "      <td>0.060000</td>\n",
       "      <td>0.000000</td>\n",
       "      <td>740.000000</td>\n",
       "      <td>0.040000</td>\n",
       "      <td>0.000000</td>\n",
       "      <td>0.000000</td>\n",
       "      <td>505.000000</td>\n",
       "    </tr>\n",
       "    <tr>\n",
       "      <th>75%</th>\n",
       "      <td>328.000000</td>\n",
       "      <td>870.000000</td>\n",
       "      <td>855.000000</td>\n",
       "      <td>30.000000</td>\n",
       "      <td>8.000000</td>\n",
       "      <td>30.000000</td>\n",
       "      <td>0.000000</td>\n",
       "      <td>30.000000</td>\n",
       "      <td>0.000000</td>\n",
       "      <td>30.000000</td>\n",
       "      <td>...</td>\n",
       "      <td>0.019000</td>\n",
       "      <td>0.460000</td>\n",
       "      <td>0.980000</td>\n",
       "      <td>0.100000</td>\n",
       "      <td>0.170000</td>\n",
       "      <td>1228.000000</td>\n",
       "      <td>0.070000</td>\n",
       "      <td>0.000000</td>\n",
       "      <td>0.010000</td>\n",
       "      <td>578.000000</td>\n",
       "    </tr>\n",
       "    <tr>\n",
       "      <th>max</th>\n",
       "      <td>437.000000</td>\n",
       "      <td>930.000000</td>\n",
       "      <td>865.000000</td>\n",
       "      <td>30.000000</td>\n",
       "      <td>24.000000</td>\n",
       "      <td>930.000000</td>\n",
       "      <td>540.000000</td>\n",
       "      <td>903.333000</td>\n",
       "      <td>70.200000</td>\n",
       "      <td>140.000000</td>\n",
       "      <td>...</td>\n",
       "      <td>0.030000</td>\n",
       "      <td>2.780000</td>\n",
       "      <td>1.170000</td>\n",
       "      <td>0.260000</td>\n",
       "      <td>0.240000</td>\n",
       "      <td>5530.000000</td>\n",
       "      <td>0.130000</td>\n",
       "      <td>0.050000</td>\n",
       "      <td>0.058000</td>\n",
       "      <td>1190.000000</td>\n",
       "    </tr>\n",
       "  </tbody>\n",
       "</table>\n",
       "<p>8 rows × 27 columns</p>\n",
       "</div>"
      ],
      "text/plain": [
       "          Sl. No.          NT         THT         THt       THQCr          CT  \\\n",
       "count  437.000000  437.000000  437.000000  437.000000  437.000000  437.000000   \n",
       "mean   219.000000  872.299771  737.643021   25.949657   10.654462  128.855835   \n",
       "std    126.295289   26.212073  280.036541   10.263824    7.841437  281.743539   \n",
       "min      1.000000  825.000000   30.000000    0.000000    0.000000   30.000000   \n",
       "25%    110.000000  865.000000  845.000000   30.000000    8.000000   30.000000   \n",
       "50%    219.000000  870.000000  845.000000   30.000000    8.000000   30.000000   \n",
       "75%    328.000000  870.000000  855.000000   30.000000    8.000000   30.000000   \n",
       "max    437.000000  930.000000  865.000000   30.000000   24.000000  930.000000   \n",
       "\n",
       "               Ct          DT          Dt         QmT  ...           S  \\\n",
       "count  437.000000  437.000000  437.000000  437.000000  ...  437.000000   \n",
       "mean    40.502059  123.699844    4.843936   35.491991  ...    0.014611   \n",
       "std    126.924697  267.128933   15.700076   19.419277  ...    0.006145   \n",
       "min      0.000000   30.000000    0.000000   30.000000  ...    0.003000   \n",
       "25%      0.000000   30.000000    0.000000   30.000000  ...    0.010000   \n",
       "50%      0.000000   30.000000    0.000000   30.000000  ...    0.015000   \n",
       "75%      0.000000   30.000000    0.000000   30.000000  ...    0.019000   \n",
       "max    540.000000  903.333000   70.200000  140.000000  ...    0.030000   \n",
       "\n",
       "               Ni          Cr          Cu          Mo     RedRatio  \\\n",
       "count  437.000000  437.000000  437.000000  437.000000   437.000000   \n",
       "mean     0.517048    0.570458    0.067780    0.069794   923.629291   \n",
       "std      0.852976    0.411769    0.049161    0.088124   576.617020   \n",
       "min      0.010000    0.010000    0.010000    0.000000   240.000000   \n",
       "25%      0.020000    0.120000    0.020000    0.000000   590.000000   \n",
       "50%      0.060000    0.710000    0.060000    0.000000   740.000000   \n",
       "75%      0.460000    0.980000    0.100000    0.170000  1228.000000   \n",
       "max      2.780000    1.170000    0.260000    0.240000  5530.000000   \n",
       "\n",
       "               dA          dB          dC      Fatigue  \n",
       "count  437.000000  437.000000  437.000000   437.000000  \n",
       "mean     0.047181    0.003391    0.007712   552.903890  \n",
       "std      0.031093    0.008240    0.010418   186.630528  \n",
       "min      0.000000    0.000000    0.000000   225.000000  \n",
       "25%      0.020000    0.000000    0.000000   448.000000  \n",
       "50%      0.040000    0.000000    0.000000   505.000000  \n",
       "75%      0.070000    0.000000    0.010000   578.000000  \n",
       "max      0.130000    0.050000    0.058000  1190.000000  \n",
       "\n",
       "[8 rows x 27 columns]"
      ]
     },
     "execution_count": 3,
     "metadata": {},
     "output_type": "execute_result"
    }
   ],
   "source": [
    "# Enter your code here.\n",
    "\n",
    "df_loaded.describe()  #use built in functions from Pandas package"
   ]
  },
  {
   "cell_type": "markdown",
   "metadata": {},
   "source": [
    "Another useful function is to find unique element in a data frame.\n",
    "\n",
    "Ques 4.2 (0.5 point) Print the unique elements in the column labeled 'THT'"
   ]
  },
  {
   "cell_type": "code",
   "execution_count": 4,
   "metadata": {},
   "outputs": [
    {
     "data": {
      "text/plain": [
       "array([ 30, 865, 845, 825, 855], dtype=int64)"
      ]
     },
     "execution_count": 4,
     "metadata": {},
     "output_type": "execute_result"
    }
   ],
   "source": [
    "# Enter your code here\n",
    "\n",
    "df_loaded.THT.unique()"
   ]
  },
  {
   "cell_type": "markdown",
   "metadata": {},
   "source": [
    "In the cell below, we are seperating inputs and output (fatigue) from the dataframe. Run the cell before before you move forward. "
   ]
  },
  {
   "cell_type": "code",
   "execution_count": 5,
   "metadata": {},
   "outputs": [],
   "source": [
    "X = df_loaded.drop(['Fatigue'],axis=1)\n",
    "Y = df_loaded['Fatigue']"
   ]
  },
  {
   "cell_type": "markdown",
   "metadata": {},
   "source": [
    "Each feature (columns of X) is having different distribution i.e. different mean, minimum and maximum. Before applying any machine learning algorithm, its important to normalize each features. Like the last lab, we will compute mean and standard deviation of each feature. "
   ]
  },
  {
   "cell_type": "markdown",
   "metadata": {},
   "source": [
    "Ques 4.3 (3 points) Preprocess the features to have unit normal distribution."
   ]
  },
  {
   "cell_type": "code",
   "execution_count": 40,
   "metadata": {},
   "outputs": [
    {
     "name": "stdout",
     "output_type": "stream",
     "text": [
      "[1. 1. 1. 1. 1. 1. 1. 1. 1. 1. 1. 1. 1. 1. 1. 1. 1. 1. 1. 1. 1. 1. 1. 1.\n",
      " 1. 1.] [ 0.00000000e+00 -2.04870446e-15 -2.11374269e-16  8.12977959e-17\n",
      "  0.00000000e+00 -1.30076473e-16 -9.75573550e-17  0.00000000e+00\n",
      "  0.00000000e+00  9.75573550e-17 -9.75573550e-17  6.50382367e-17\n",
      " -1.78855151e-16 -5.52825012e-16  1.13816914e-16 -2.60152947e-16\n",
      "  1.78855151e-16  1.62595592e-16 -3.25191183e-17  1.05687135e-16\n",
      " -3.08931624e-16  9.75573550e-17  6.50382367e-17 -9.75573550e-17\n",
      " -1.62595592e-17 -3.65840081e-17]\n"
     ]
    }
   ],
   "source": [
    "test = (X.values - X.values.mean(axis = 0))/(X.values.std(axis = 0))\n",
    "\n",
    "\n",
    "#make sure that the data columns have a mean of 0 and unit variance\n",
    "print(test.var(axis=0), test.mean(axis = 0))"
   ]
  },
  {
   "cell_type": "markdown",
   "metadata": {},
   "source": [
    "Ques 4.4 (1 point) Split the data into training and test set. Retain 80% of the data as training set and rest 20% as test set"
   ]
  },
  {
   "cell_type": "code",
   "execution_count": 16,
   "metadata": {},
   "outputs": [],
   "source": [
    "from sklearn.model_selection import train_test_split\n",
    "X_train, X_test, y_train, y_test = train_test_split(test, Y, test_size = 0.2)"
   ]
  },
  {
   "cell_type": "markdown",
   "metadata": {},
   "source": [
    "Ques 4.5 (2 points) Fit a linear regression model on the training set. Use SKlearn's Linear regression model"
   ]
  },
  {
   "cell_type": "code",
   "execution_count": 19,
   "metadata": {},
   "outputs": [
    {
     "data": {
      "text/plain": [
       "LinearRegression(copy_X=True, fit_intercept=True, n_jobs=None, normalize=False)"
      ]
     },
     "execution_count": 19,
     "metadata": {},
     "output_type": "execute_result"
    }
   ],
   "source": [
    "# load dependencies\n",
    "from sklearn.linear_model import LinearRegression\n",
    "\n",
    "#define model\n",
    "reg = LinearRegression()\n",
    "\n",
    "#Fit the data to the model\n",
    "reg.fit(X_train, y_train)"
   ]
  },
  {
   "cell_type": "markdown",
   "metadata": {},
   "source": [
    "Ques 4.6 (2 points) Compute predictions on training set. Print the mean absolute error between predictions and true values"
   ]
  },
  {
   "cell_type": "code",
   "execution_count": 28,
   "metadata": {},
   "outputs": [
    {
     "name": "stdout",
     "output_type": "stream",
     "text": [
      "Mean absolute error base on training dataset is : 19.926\n"
     ]
    }
   ],
   "source": [
    "y_train_pred = reg.predict(X_train)\n",
    "\n",
    "from sklearn.metrics import mean_absolute_error\n",
    "\n",
    "print('Mean absolute error base on training dataset is : %0.2f' %mean_absolute_error(y_train, y_train_pred))\n"
   ]
  },
  {
   "cell_type": "markdown",
   "metadata": {},
   "source": [
    "Ques 4.7 (2 points) Compute predictions on test set and report mean absolute error on test set."
   ]
  },
  {
   "cell_type": "code",
   "execution_count": 29,
   "metadata": {},
   "outputs": [
    {
     "name": "stdout",
     "output_type": "stream",
     "text": [
      "Mean absolute error base on training dataset is : 33.43\n"
     ]
    }
   ],
   "source": [
    "y_test_pred = reg.predict(X_test)\n",
    "\n",
    "from sklearn.metrics import mean_absolute_error\n",
    "\n",
    "print('Mean absolute error base on training dataset is : %0.2f' %mean_absolute_error(y_test, y_test_pred))\n"
   ]
  },
  {
   "cell_type": "markdown",
   "metadata": {},
   "source": [
    "Ques 4.8 (1 point) Plot the test set predictions versus corresponding true values"
   ]
  },
  {
   "cell_type": "code",
   "execution_count": 31,
   "metadata": {},
   "outputs": [
    {
     "data": {
      "text/plain": [
       "Text(0, 0.5, 'Y Predicted Values')"
      ]
     },
     "execution_count": 31,
     "metadata": {},
     "output_type": "execute_result"
    },
    {
     "data": {
      "image/png": "[encoded data removed]",
      "text/plain": [
       "<Figure size 432x288 with 1 Axes>"
      ]
     },
     "metadata": {
      "needs_background": "light"
     },
     "output_type": "display_data"
    }
   ],
   "source": [
    "fig, ax = plt.subplots(1,1)\n",
    "\n",
    "plt.scatter(y_test, y_test_pred)\n",
    "\n",
    "plt.xlabel('Y Test Values')\n",
    "plt.ylabel('Y Predicted Values')"
   ]
  },
  {
   "cell_type": "markdown",
   "metadata": {},
   "source": [
    "Ques 4.9 ( 1 point) Compute r-squared value for the test set predictions. Hint: - google sklearn's score method"
   ]
  },
  {
   "cell_type": "code",
   "execution_count": 32,
   "metadata": {},
   "outputs": [
    {
     "name": "stdout",
     "output_type": "stream",
     "text": [
      "R^2 is : 0.96\n"
     ]
    }
   ],
   "source": [
    "from sklearn.metrics import r2_score\n",
    "\n",
    "print('R^2 is : %0.2f' % r2_score(y_test, y_test_pred))"
   ]
  },
  {
   "cell_type": "markdown",
   "metadata": {},
   "source": [
    "### Polynomial regression"
   ]
  },
  {
   "cell_type": "markdown",
   "metadata": {},
   "source": [
    "In this section we will perform polynomial regression and compare the performance with corresponding Linear regression"
   ]
  },
  {
   "cell_type": "markdown",
   "metadata": {},
   "source": [
    "Ques 4.10 (1 point) Obtain polynomial features on original X. It is important that we use original X and not the normalized X, to get polynomial features.\n",
    "\n",
    "Hint - Use PolynomialFeatures from sklearn.preprocessing. It will be efficient to use fit_transfom method"
   ]
  },
  {
   "cell_type": "code",
   "execution_count": 58,
   "metadata": {},
   "outputs": [],
   "source": [
    "from sklearn.preprocessing import PolynomialFeatures\n",
    "\n",
    "#define the model\n",
    "polyFeatures = PolynomialFeatures(2)\n",
    "\n",
    "#fit the X data and assign to and array \n",
    "polyFeatures = polyFeatures.fit_transform(X)"
   ]
  },
  {
   "cell_type": "markdown",
   "metadata": {},
   "source": [
    "Ques 4.11 (3 points) Normalize your features in the same manner as in Ques 4.3. "
   ]
  },
  {
   "cell_type": "code",
   "execution_count": 61,
   "metadata": {},
   "outputs": [
    {
     "name": "stderr",
     "output_type": "stream",
     "text": [
      "C:\\Users\\Ian Johnston\\Anaconda3\\envs\\MSE1065\\lib\\site-packages\\ipykernel_launcher.py:4: RuntimeWarning: invalid value encountered in true_divide\n",
      "  after removing the cwd from sys.path.\n"
     ]
    }
   ],
   "source": [
    "meanX = polyFeatures.mean(axis = 0)\n",
    "stdX = polyFeatures.std(axis = 0)\n",
    "\n",
    "X_p_norm = (polyFeatures - meanX)/stdX\n",
    "\n",
    "#check that the array has the correct properties\n",
    "#print(X_p_norm.var(axis = 0), X_p_norm.mean(axis = 0))"
   ]
  },
  {
   "cell_type": "code",
   "execution_count": 62,
   "metadata": {},
   "outputs": [],
   "source": [
    "# We will remove the columns where standard deviation is zero. \n",
    "# As standard deviation is zero, which means the entire column has single value \n",
    "# Our algorithm will add the corresponding weight to the constant term\n",
    "# you don't have to enter any code in this cell. Just run the cell one time and it will delete the corresponding columns\n",
    "\n",
    "indDelete = np.where(stdX==0)[0]\n",
    "polyFeatures = np.delete(polyFeatures, indDelete, axis=1)\n",
    "meanX = np.delete(meanX,indDelete,axis=0)\n",
    "stdX = np.delete(stdX,indDelete,axis=0)"
   ]
  },
  {
   "cell_type": "code",
   "execution_count": 64,
   "metadata": {
    "collapsed": true,
    "jupyter": {
     "outputs_hidden": true
    }
   },
   "outputs": [
    {
     "name": "stdout",
     "output_type": "stream",
     "text": [
      "[ 0.00000000e+00 -1.88610886e-15 -9.75573550e-17  1.62595592e-17\n",
      "  1.30076473e-16  3.25191183e-17  0.00000000e+00  2.92672065e-16\n",
      "  0.00000000e+00  3.25191183e-17 -1.13816914e-16  1.30076473e-16\n",
      " -1.62595592e-16  1.20320738e-15 -9.91833109e-16 -1.52839856e-15\n",
      "  4.84534863e-15  5.56076924e-15  0.00000000e+00 -5.28435673e-16\n",
      "  2.60152947e-16 -4.22748538e-16  6.50382367e-17  5.26809717e-15\n",
      " -1.95114710e-16  2.79257929e-15  6.50382367e-17  0.00000000e+00\n",
      " -6.50382367e-17  0.00000000e+00 -3.25191183e-17  6.50382367e-17\n",
      " -6.50382367e-17  6.50382367e-17 -3.25191183e-17 -3.25191183e-17\n",
      "  0.00000000e+00  0.00000000e+00  1.30076473e-16  0.00000000e+00\n",
      "  1.95114710e-16 -7.15420604e-16  1.04061179e-15  6.50382367e-16\n",
      " -1.95114710e-16  6.50382367e-17 -6.50382367e-16  3.57710302e-16\n",
      " -6.50382367e-17 -7.80458840e-16  6.50382367e-17  2.27633828e-16\n",
      "  9.10535314e-16  1.78855151e-16 -3.25191183e-17  0.00000000e+00\n",
      "  6.50382367e-17  0.00000000e+00  7.47939722e-16  0.00000000e+00\n",
      "  6.50382367e-17 -1.30076473e-16  6.50382367e-17 -1.46336033e-16\n",
      "  6.79649573e-15 -1.49587944e-15  2.79664418e-15  2.94298021e-15\n",
      "  1.49587944e-15 -4.22748538e-16 -7.96718399e-16  1.02435223e-15\n",
      "  4.22748538e-16  6.50382367e-17 -3.90229420e-16 -4.06488979e-16\n",
      "  2.52023167e-16  1.46336033e-16  4.87786775e-17 -3.25191183e-17\n",
      "  5.04046334e-16 -3.25191183e-17  6.48756411e-15  0.00000000e+00\n",
      " -2.43893388e-16 -6.50382367e-17 -1.62595592e-16 -1.78855151e-16\n",
      "  4.21122583e-15 -9.14600203e-16  1.56091768e-15  2.92672065e-15\n",
      "  1.88610886e-15 -5.52825012e-16 -7.96718399e-16 -1.21946694e-16\n",
      "  2.35763608e-16 -9.75573550e-17 -8.78016195e-16  2.43893388e-16\n",
      "  2.16658626e-15 -1.13816914e-16 -3.25191183e-17 -1.13816914e-16\n",
      " -1.13816914e-16 -1.13816914e-16  4.87786775e-17 -1.13816914e-16\n",
      " -9.75573550e-17  1.00809267e-15  6.30057918e-16  3.29256073e-16\n",
      "  9.10535314e-16 -3.67466037e-15 -6.50382367e-17 -6.01603689e-16\n",
      " -1.35767319e-15 -2.92672065e-16  3.25191183e-17 -1.20320738e-15\n",
      "  4.39008098e-16  2.30072762e-15  1.62595592e-16 -3.25191183e-17\n",
      " -3.25191183e-17 -3.25191183e-17  0.00000000e+00 -3.25191183e-17\n",
      "  1.30076473e-16  1.39832209e-15  2.14626181e-15  1.04061179e-15\n",
      "  1.00809267e-15  2.99175889e-15  6.50382367e-17  9.75573550e-17\n",
      "  3.25191183e-16 -1.62595592e-17 -6.50382367e-17 -1.56091768e-15\n",
      "  7.64199281e-16  3.12183536e-15  3.25191183e-17  0.00000000e+00\n",
      "  2.60152947e-16  0.00000000e+00 -1.30076473e-16  3.25191183e-17\n",
      "  0.00000000e+00 -6.50382367e-17  5.52825012e-16  3.57710302e-16\n",
      "  2.27633828e-16  1.30076473e-16 -4.22748538e-16  1.30076473e-16\n",
      " -9.75573550e-17 -6.50382367e-17 -3.25191183e-17  0.00000000e+00\n",
      "  6.50382367e-17  1.38206253e-16  5.85344130e-16  1.30076473e-16\n",
      "  0.00000000e+00 -1.13816914e-16 -3.25191183e-17 -3.25191183e-17\n",
      " -3.25191183e-17  0.00000000e+00 -3.25191183e-17 -1.30076473e-16\n",
      "  1.30076473e-16 -1.13816914e-16 -9.75573550e-17  6.50382367e-17\n",
      "  1.30076473e-16 -4.87786775e-17 -3.25191183e-17  0.00000000e+00\n",
      " -1.62595592e-16  0.00000000e+00 -6.50382367e-17  1.62595592e-16\n",
      " -2.27633828e-16 -3.57710302e-16 -2.60152947e-16 -2.60152947e-16\n",
      " -6.26806006e-15  3.25191183e-17  1.62595592e-16 -1.95114710e-16\n",
      "  3.25191183e-17 -1.95114710e-16  1.46336033e-16  6.50382367e-17\n",
      " -1.62595592e-16  0.00000000e+00  3.25191183e-17  1.95114710e-16\n",
      "  1.78855151e-16  6.50382367e-16  9.75573550e-17 -6.50382367e-17\n",
      "  0.00000000e+00  0.00000000e+00  0.00000000e+00  0.00000000e+00\n",
      "  6.50382367e-17 -3.25191183e-17 -6.50382367e-17  6.50382367e-17\n",
      "  8.12977959e-17 -1.78855151e-16  0.00000000e+00  0.00000000e+00\n",
      " -1.62595592e-16 -1.62595592e-17 -3.25191183e-17 -1.62595592e-17\n",
      "  6.50382367e-17 -4.39008098e-16  6.50382367e-17  0.00000000e+00\n",
      " -6.99161044e-16 -1.95114710e-16 -3.25191183e-16  8.04848179e-16\n",
      " -2.34950630e-15  3.25191183e-17 -1.62595592e-17 -7.96718399e-16\n",
      " -3.57710302e-16  4.06488979e-18 -4.55267657e-16  4.71527216e-16\n",
      "  2.39422009e-15  6.50382367e-17 -1.78855151e-16 -1.78855151e-16\n",
      " -8.94275754e-16 -3.57710302e-16 -1.11377980e-15 -1.47961988e-15\n",
      " -1.39832209e-15 -6.50382367e-17  1.04061179e-15 -1.46742522e-15\n",
      " -5.28435673e-16  4.87786775e-17  3.25191183e-16  2.60152947e-16\n",
      "  6.99161044e-16  3.25191183e-17 -1.62595592e-17 -4.21935560e-15\n",
      "  1.62595592e-16 -2.34137652e-15  1.05687135e-15 -4.09740891e-15\n",
      "  2.60152947e-16  5.52825012e-16 -2.11374269e-15 -6.50382367e-16\n",
      "  1.62595592e-17 -1.41458165e-15  1.30076473e-16  2.34137652e-15\n",
      " -3.25191183e-17  3.54458390e-15 -8.41432187e-16 -2.13813203e-15\n",
      "  0.00000000e+00  6.50382367e-16  2.92672065e-16 -9.10535314e-16\n",
      "  9.91833109e-16 -1.08939046e-15  6.50382367e-17 -4.97542511e-15\n",
      "  8.78016195e-16  4.30878318e-16  5.18679938e-15  9.75573550e-17\n",
      " -4.55267657e-16 -5.20305893e-16  6.50382367e-16 -1.13816914e-15\n",
      " -1.28450517e-15  7.31680163e-17  1.54465812e-15 -2.60152947e-16\n",
      "  6.50382367e-17  9.75573550e-17 -4.06488979e-17 -2.92672065e-16\n",
      " -5.04046334e-16  1.82920041e-15 -1.06500113e-15 -3.57710302e-16\n",
      "  3.25191183e-17  1.12190958e-15 -3.90229420e-16  2.96736955e-16\n",
      " -1.24385628e-15 -1.46336033e-16 -4.06488979e-17 -2.27633828e-16\n",
      " -4.87786775e-16 -6.50382367e-17  6.17863248e-16  1.47961988e-15\n",
      "  2.60152947e-16  1.78855151e-16 -2.96736955e-16  1.78855151e-15\n",
      " -2.92672065e-16 -5.81279240e-16 -8.45497077e-16 -5.13802070e-15\n",
      " -1.95114710e-16  1.13003936e-15 -1.13816914e-16  5.69084571e-16\n",
      "  1.62595592e-17 -6.82901485e-16  2.27633828e-16  2.15439159e-16\n",
      "  3.57710302e-16 -6.17863248e-16 -1.43084121e-15  2.35763608e-16\n",
      "  3.73969861e-16 -2.27633828e-16  1.62595592e-16  1.46336033e-16\n",
      " -5.44695232e-16 -5.52825012e-16  1.62595592e-16  6.50382367e-17\n",
      " -6.50382367e-17  8.45497077e-16  1.30076473e-16  3.25191183e-17\n",
      "  9.75573550e-17 -4.55267657e-16 -9.10535314e-16  7.31680163e-16\n",
      "  8.57691746e-16 -4.87786775e-16 -1.62595592e-17 -2.88607175e-16\n",
      " -6.58512146e-16  1.95114710e-16 -2.27633828e-16 -6.21928138e-16\n",
      "  1.62595592e-17 -8.94275754e-17 -1.95114710e-16  3.33320963e-16\n",
      " -4.87786775e-16 -1.86984930e-16 -5.36565453e-16  3.65840081e-17\n",
      " -7.15420604e-16 -1.30076473e-16 -6.99161044e-16  4.29252362e-15\n",
      " -3.90229420e-16 -3.90229420e-16 -8.61756636e-16  5.69084571e-17\n",
      " -1.32515407e-15] [1. 1. 1. 1. 1. 1. 1. 1. 1. 1. 1. 1. 1. 1. 1. 1. 1. 1. 1. 1. 1. 1. 1. 1.\n",
      " 1. 1. 1. 1. 1. 1. 1. 1. 1. 1. 1. 1. 1. 1. 1. 1. 1. 1. 1. 1. 1. 1. 1. 1.\n",
      " 1. 1. 1. 1. 1. 1. 1. 1. 1. 1. 1. 1. 1. 1. 1. 1. 1. 1. 1. 1. 1. 1. 1. 1.\n",
      " 1. 1. 1. 1. 1. 1. 1. 1. 1. 1. 1. 1. 1. 1. 1. 1. 1. 1. 1. 1. 1. 1. 1. 1.\n",
      " 1. 1. 1. 1. 1. 1. 1. 1. 1. 1. 1. 1. 1. 1. 1. 1. 1. 1. 1. 1. 1. 1. 1. 1.\n",
      " 1. 1. 1. 1. 1. 1. 1. 1. 1. 1. 1. 1. 1. 1. 1. 1. 1. 1. 1. 1. 1. 1. 1. 1.\n",
      " 1. 1. 1. 1. 1. 1. 1. 1. 1. 1. 1. 1. 1. 1. 1. 1. 1. 1. 1. 1. 1. 1. 1. 1.\n",
      " 1. 1. 1. 1. 1. 1. 1. 1. 1. 1. 1. 1. 1. 1. 1. 1. 1. 1. 1. 1. 1. 1. 1. 1.\n",
      " 1. 1. 1. 1. 1. 1. 1. 1. 1. 1. 1. 1. 1. 1. 1. 1. 1. 1. 1. 1. 1. 1. 1. 1.\n",
      " 1. 1. 1. 1. 1. 1. 1. 1. 1. 1. 1. 1. 1. 1. 1. 1. 1. 1. 1. 1. 1. 1. 1. 1.\n",
      " 1. 1. 1. 1. 1. 1. 1. 1. 1. 1. 1. 1. 1. 1. 1. 1. 1. 1. 1. 1. 1. 1. 1. 1.\n",
      " 1. 1. 1. 1. 1. 1. 1. 1. 1. 1. 1. 1. 1. 1. 1. 1. 1. 1. 1. 1. 1. 1. 1. 1.\n",
      " 1. 1. 1. 1. 1. 1. 1. 1. 1. 1. 1. 1. 1. 1. 1. 1. 1. 1. 1. 1. 1. 1. 1. 1.\n",
      " 1. 1. 1. 1. 1. 1. 1. 1. 1. 1. 1. 1. 1. 1. 1. 1. 1. 1. 1. 1. 1. 1. 1. 1.\n",
      " 1. 1. 1. 1. 1. 1. 1. 1. 1. 1. 1. 1. 1. 1. 1. 1. 1. 1. 1. 1. 1. 1. 1. 1.\n",
      " 1. 1. 1. 1. 1. 1. 1. 1. 1. 1. 1. 1. 1.]\n"
     ]
    }
   ],
   "source": [
    "normalizedX = (polyFeatures - meanX)/stdX\n",
    "\n",
    "#check the variance and mean\n",
    "print(normalizedX.mean(axis = 0), normalizedX.var(axis =0))\n",
    "\n",
    "#no rows with nan are present"
   ]
  },
  {
   "cell_type": "markdown",
   "metadata": {},
   "source": [
    "After obtaining polynomial features and standardizing the data we will split the data into training and test set and apply linear regression model to it."
   ]
  },
  {
   "cell_type": "markdown",
   "metadata": {},
   "source": [
    "Ques 4.12 (2 points) Perform train-test split of normalized data and fit a linear regression model on top of it"
   ]
  },
  {
   "cell_type": "code",
   "execution_count": 66,
   "metadata": {},
   "outputs": [],
   "source": [
    "X_train, X_test, y_train, y_test = train_test_split(normalizedX, Y, test_size = 0.2)\n",
    "reg = LinearRegression().fit(X_train, y_train)"
   ]
  },
  {
   "cell_type": "markdown",
   "metadata": {},
   "source": [
    "Ques 4.13 (2 points) Get the prediction on training set and compute mean absolute error"
   ]
  },
  {
   "cell_type": "code",
   "execution_count": 67,
   "metadata": {},
   "outputs": [
    {
     "name": "stdout",
     "output_type": "stream",
     "text": [
      "Mean absolute error on train data is: 4.47\n"
     ]
    }
   ],
   "source": [
    "y_train_predict = reg.predict(X_train)\n",
    "\n",
    "print('Mean absolute error on train data is: %0.2f' % mean_absolute_error(y_train, y_train_predict))"
   ]
  },
  {
   "cell_type": "markdown",
   "metadata": {},
   "source": [
    "Ques 4.14 (2 points) Get the prediction on test set and compute mean absolute error"
   ]
  },
  {
   "cell_type": "code",
   "execution_count": 68,
   "metadata": {},
   "outputs": [
    {
     "name": "stdout",
     "output_type": "stream",
     "text": [
      "Mean absolute error on test data is: 144.62\n"
     ]
    }
   ],
   "source": [
    "y_test_predict = reg.predict(X_test)\n",
    "\n",
    "print('Mean absolute error on test data is: %0.2f' % mean_absolute_error(y_test, y_test_predict))"
   ]
  },
  {
   "cell_type": "markdown",
   "metadata": {},
   "source": [
    "Ques 4.15 (1 point) Plot the test set predictions versus corresponding true values"
   ]
  },
  {
   "cell_type": "code",
   "execution_count": 71,
   "metadata": {},
   "outputs": [
    {
     "data": {
      "text/plain": [
       "Text(0, 0.5, 'Predicted Y Value')"
      ]
     },
     "execution_count": 71,
     "metadata": {},
     "output_type": "execute_result"
    },
    {
     "data": {
      "image/png": "[encoded data removed]",
      "text/plain": [
       "<Figure size 432x288 with 1 Axes>"
      ]
     },
     "metadata": {
      "needs_background": "light"
     },
     "output_type": "display_data"
    }
   ],
   "source": [
    "fig, ax = plt.subplots(1,1)\n",
    "\n",
    "plt.scatter(y_test, y_test_predict)\n",
    "\n",
    "plt.xlabel('Actual Y Value')\n",
    "plt.ylabel('Predicted Y Value')"
   ]
  },
  {
   "cell_type": "markdown",
   "metadata": {},
   "source": [
    "The above plot shows a classical case of overfitting. There are many possible reasons for this overfitting. A very simple reason can be less amount of training data as comapred to number of features present. Nevertheless, to prevent the overfitting, we use a technique called ridge regression. Under this technique we penalize the magnitude of weights that our model can have. This restricts the values of the coefficients and thus favouring simple models as compared to complex one. \n",
    "\n",
    "The loss function that we minimize is \n",
    "\n",
    "$||Y - w^TX||^2 +\\alpha\\sum_iw_i^2 $,\n",
    "\n",
    "where $\\alpha$ controls the model complexity. When $\\alpha$ equals 0, the above model corresponds to linear regression model.\n",
    "\n",
    "Under SKLearn, fitting a ridge regression model is very similar to the Linear regression model. We will use Ridge class under linear_model.\n"
   ]
  },
  {
   "cell_type": "markdown",
   "metadata": {},
   "source": [
    "Ques 4.16 (2 points) Create a ridge regression model for $\\alpha$ equals 0.1 and fit on the training set of Ques 4.12"
   ]
  },
  {
   "cell_type": "code",
   "execution_count": 73,
   "metadata": {},
   "outputs": [
    {
     "data": {
      "text/plain": [
       "Ridge(alpha=0.1, copy_X=True, fit_intercept=True, max_iter=None,\n",
       "      normalize=False, random_state=None, solver='auto', tol=0.001)"
      ]
     },
     "execution_count": 73,
     "metadata": {},
     "output_type": "execute_result"
    }
   ],
   "source": [
    "#load dependecies\n",
    "from sklearn.linear_model import Ridge\n",
    "\n",
    "#define the model\n",
    "ridge_reg = Ridge(alpha = 0.1)\n",
    "\n",
    "ridge_reg.fit(X_train, y_train)"
   ]
  },
  {
   "cell_type": "markdown",
   "metadata": {},
   "source": [
    "Ques 4.17 (2 points) Get the prediction on training set and compute mean absolute error"
   ]
  },
  {
   "cell_type": "code",
   "execution_count": 80,
   "metadata": {},
   "outputs": [
    {
     "name": "stdout",
     "output_type": "stream",
     "text": [
      "Mean absolute error on train data is: 19.11\n"
     ]
    }
   ],
   "source": [
    "y_train_predict = ridge_reg.predict(X_train)\n",
    "\n",
    "print('Mean absolute error on train data is: %0.2f' % mean_absolute_error(y_train, y_train_predict))"
   ]
  },
  {
   "cell_type": "markdown",
   "metadata": {},
   "source": [
    "Ques 4.18 (1 point) Get the prediction on test set and compute mean absolute error"
   ]
  },
  {
   "cell_type": "code",
   "execution_count": 81,
   "metadata": {},
   "outputs": [
    {
     "name": "stdout",
     "output_type": "stream",
     "text": [
      "Mean absolute error on test data is: 25.38\n"
     ]
    }
   ],
   "source": [
    "y_test_predict = ridge_reg.predict(X_test)\n",
    "\n",
    "print('Mean absolute error on test data is: %0.2f' % mean_absolute_error(y_test, y_test_predict))"
   ]
  },
  {
   "cell_type": "markdown",
   "metadata": {},
   "source": [
    "Our prediction on test set has considerably improved by using polynomial features and ridge regression. \n",
    "\n",
    "###  Bonus Question ( 2 points)\n",
    "\n",
    "Try the fitting for 5 different $\\alpha$ values and report the best performing model i.e. $\\alpha$ for which mean absolute error on test set is minimum. Also report the corresponding mean absolute error."
   ]
  },
  {
   "cell_type": "code",
   "execution_count": 86,
   "metadata": {},
   "outputs": [
    {
     "name": "stdout",
     "output_type": "stream",
     "text": [
      "MA for an alpha of 0.01 is: 23.78\n",
      "MA for an alpha of 0.1 is: 21.55\n",
      "MA for an alpha of 1.0 is: 20.17\n",
      "MA for an alpha of 10.0 is: 17.84\n",
      "MA for an alpha of 100.0 is: 25.38\n"
     ]
    }
   ],
   "source": [
    "#make a list of geometically spaced alphas\n",
    "alpha_values = np.geomspace(0.01, 100, num =5)\n",
    "\n",
    "for values in alpha_values:\n",
    "    #define model\n",
    "    ridge_reg = Ridge(alpha = values)\n",
    "    #fit data\n",
    "    ridge_reg.fit(X_train, y_train)\n",
    "    \n",
    "    #find predicted y-test values\n",
    "    y_test_predict = ridge_reg.predict(X_test)\n",
    "    \n",
    "    # print the resulting mean absolute error\n",
    "    print('MA for an alpha of ' + str(values) + ' is: %0.2f' % mean_absolute_error(y_test, y_test_predict))"
   ]
  },
  {
   "cell_type": "markdown",
   "metadata": {},
   "source": [
    "### IJ Comments\n",
    "\n",
    "An $\\alpha$ of approximately 9 (calculations not fully shown) gives the best mean absolute error on the data set"
   ]
  },
  {
   "cell_type": "markdown",
   "metadata": {},
   "source": [
    "#### A comment on overfitting. \n",
    "\n",
    "As you have noticed, we were working on a very limited dataset (437 material samples) and this limits the kind of models that we can fit on this data. When we generated polynomial features, we had about 373 columns. To get the most out of these 373 columns, we definately need more training samples. But in the situations when obtaining more data is not possible, you definately want to have maximum use of all the data available. In these situations, we employ a very popular method called cross-validation. Instead of splitting data into dedicated training and test, we divide the data into k folds or partitions.The k can be 2,3,4,5 depending on the computational resources avaialble. We train our model on all the partitions except one and measure the accuracy over left out set. We repeat this procedure for all the partitions and select the model based on avaerage performance."
   ]
  },
  {
   "cell_type": "markdown",
   "metadata": {},
   "source": [
    "### Sparse models"
   ]
  },
  {
   "cell_type": "markdown",
   "metadata": {},
   "source": [
    "Sparse modeling refers to the set of models that result in most of the weights to be zero. Under these models, we can drop or delete the features where weights are zero resulting in compact input matrix. This method can also help in the situations with small data sets and a useful tool in feature selection. We only retain the features corresponding to non-zero weights.\n",
    "\n",
    "One way to achieve sparsity is through minimizing the following loss function\n",
    "\n",
    "$||Y - w^TX||^2 +\\alpha\\sum_i|w_i| $,\n",
    "\n",
    "where $\\alpha$ controls the model sparsity or the number of non zero weights. To fit this model, we can use SKLearn's Lasso library. Another efficient library for sparse models is glmnet."
   ]
  },
  {
   "cell_type": "code",
   "execution_count": 87,
   "metadata": {},
   "outputs": [
    {
     "name": "stdout",
     "output_type": "stream",
     "text": [
      "Coeffiecients  [ 3.76342384e+01 -0.00000000e+00  0.00000000e+00  0.00000000e+00\n",
      " -0.00000000e+00  1.01546332e+01  1.57067153e+01  2.09192206e+00\n",
      "  0.00000000e+00  0.00000000e+00 -2.12807013e+01  1.54185672e+01\n",
      " -0.00000000e+00 -0.00000000e+00  0.00000000e+00 -0.00000000e+00\n",
      " -0.00000000e+00 -0.00000000e+00  1.09534272e+01  2.71987666e+01\n",
      "  0.00000000e+00  0.00000000e+00 -1.36196397e-01 -0.00000000e+00\n",
      " -0.00000000e+00 -0.00000000e+00  0.00000000e+00  1.62237668e+01\n",
      "  0.00000000e+00  0.00000000e+00  1.17436729e+00  0.00000000e+00\n",
      "  0.00000000e+00  0.00000000e+00  0.00000000e+00  0.00000000e+00\n",
      " -1.15189772e+01  0.00000000e+00  0.00000000e+00  0.00000000e+00\n",
      "  0.00000000e+00  0.00000000e+00 -2.22723907e+00  3.24950881e+00\n",
      "  0.00000000e+00  0.00000000e+00  0.00000000e+00 -0.00000000e+00\n",
      " -0.00000000e+00 -0.00000000e+00  0.00000000e+00 -2.45086172e+00\n",
      "  0.00000000e+00 -0.00000000e+00 -0.00000000e+00 -0.00000000e+00\n",
      "  0.00000000e+00  0.00000000e+00  0.00000000e+00  0.00000000e+00\n",
      " -0.00000000e+00 -0.00000000e+00  0.00000000e+00 -0.00000000e+00\n",
      " -0.00000000e+00  0.00000000e+00 -0.00000000e+00 -0.00000000e+00\n",
      " -0.00000000e+00  0.00000000e+00  0.00000000e+00  0.00000000e+00\n",
      "  0.00000000e+00 -0.00000000e+00 -0.00000000e+00 -0.00000000e+00\n",
      " -0.00000000e+00 -0.00000000e+00 -0.00000000e+00 -0.00000000e+00\n",
      "  1.51492150e+01  0.00000000e+00  1.05762301e+01  0.00000000e+00\n",
      " -0.00000000e+00 -0.00000000e+00 -0.00000000e+00 -0.00000000e+00\n",
      " -0.00000000e+00  0.00000000e+00 -0.00000000e+00  0.00000000e+00\n",
      " -8.79278532e+00  0.00000000e+00  0.00000000e+00  0.00000000e+00\n",
      "  2.15716230e+00 -0.00000000e+00 -5.78831653e+00 -0.00000000e+00\n",
      " -0.00000000e+00 -0.00000000e+00 -0.00000000e+00 -0.00000000e+00\n",
      " -0.00000000e+00 -0.00000000e+00 -0.00000000e+00 -0.00000000e+00\n",
      " -0.00000000e+00 -0.00000000e+00  0.00000000e+00 -0.00000000e+00\n",
      "  0.00000000e+00 -0.00000000e+00  0.00000000e+00  0.00000000e+00\n",
      "  0.00000000e+00  3.83630663e-01 -0.00000000e+00 -1.59111994e+00\n",
      " -0.00000000e+00 -0.00000000e+00 -0.00000000e+00 -0.00000000e+00\n",
      " -0.00000000e+00 -0.00000000e+00 -0.00000000e+00 -0.00000000e+00\n",
      " -0.00000000e+00 -0.00000000e+00  0.00000000e+00  0.00000000e+00\n",
      "  0.00000000e+00 -9.77492943e-01  0.00000000e+00  0.00000000e+00\n",
      " -0.00000000e+00  4.05002766e-04  0.00000000e+00 -0.00000000e+00\n",
      "  0.00000000e+00 -7.36635078e-01  0.00000000e+00  0.00000000e+00\n",
      "  0.00000000e+00  0.00000000e+00 -0.00000000e+00  0.00000000e+00\n",
      "  0.00000000e+00  0.00000000e+00  1.66824667e+01 -0.00000000e+00\n",
      "  0.00000000e+00 -0.00000000e+00  4.02050874e+00  3.53996821e+00\n",
      "  0.00000000e+00 -0.00000000e+00 -0.00000000e+00  0.00000000e+00\n",
      "  1.06104389e+01 -0.00000000e+00 -0.00000000e+00 -0.00000000e+00\n",
      "  0.00000000e+00  0.00000000e+00 -1.78534200e+01  1.17187979e+01\n",
      "  0.00000000e+00  0.00000000e+00  0.00000000e+00 -0.00000000e+00\n",
      "  3.17289210e+00  0.00000000e+00 -0.00000000e+00 -6.40913100e+00\n",
      "  5.07857336e-01 -0.00000000e+00  0.00000000e+00  5.16731550e-02\n",
      " -0.00000000e+00 -1.41584183e+00 -0.00000000e+00  0.00000000e+00\n",
      "  0.00000000e+00 -0.00000000e+00  0.00000000e+00  0.00000000e+00\n",
      "  0.00000000e+00  3.43702407e+00 -0.00000000e+00  0.00000000e+00\n",
      " -0.00000000e+00  3.55409578e-01  6.42631575e-01  0.00000000e+00\n",
      " -0.00000000e+00 -0.00000000e+00  0.00000000e+00  6.66504637e+00\n",
      " -0.00000000e+00 -0.00000000e+00  0.00000000e+00 -0.00000000e+00\n",
      "  0.00000000e+00 -0.00000000e+00 -0.00000000e+00  0.00000000e+00\n",
      " -1.07614484e+01  0.00000000e+00 -1.30698364e-02  0.00000000e+00\n",
      "  2.33085261e+01 -0.00000000e+00 -1.22400417e+01 -0.00000000e+00\n",
      "  0.00000000e+00  0.00000000e+00 -0.00000000e+00  8.92979468e-01\n",
      " -0.00000000e+00 -1.00006858e+01 -0.00000000e+00  0.00000000e+00\n",
      "  4.96316501e+00  0.00000000e+00 -0.00000000e+00  8.59365889e+00\n",
      " -1.20294290e+01 -0.00000000e+00  0.00000000e+00 -0.00000000e+00\n",
      "  1.64626152e+01  1.51633589e+00  7.61488586e+00  6.39750246e+00\n",
      " -0.00000000e+00 -7.63933107e+01  0.00000000e+00 -0.00000000e+00\n",
      " -7.55942227e+00  3.31091818e+01  0.00000000e+00  0.00000000e+00\n",
      " -0.00000000e+00 -0.00000000e+00 -0.00000000e+00  0.00000000e+00\n",
      " -8.52560818e+00 -0.00000000e+00 -0.00000000e+00  5.99409080e+00\n",
      " -0.00000000e+00 -0.00000000e+00  4.70537703e+01  2.75902073e+01\n",
      "  0.00000000e+00 -0.00000000e+00 -0.00000000e+00  0.00000000e+00\n",
      "  0.00000000e+00  0.00000000e+00 -0.00000000e+00  0.00000000e+00\n",
      "  0.00000000e+00 -0.00000000e+00 -0.00000000e+00 -0.00000000e+00\n",
      "  0.00000000e+00  0.00000000e+00  1.21960520e+00  0.00000000e+00\n",
      "  1.10049450e+01 -0.00000000e+00  0.00000000e+00  6.77898329e+00\n",
      "  7.79225063e+00  1.24445127e+01  0.00000000e+00 -0.00000000e+00\n",
      " -0.00000000e+00 -0.00000000e+00  0.00000000e+00  0.00000000e+00\n",
      "  0.00000000e+00 -1.83029363e+00 -0.00000000e+00 -0.00000000e+00\n",
      " -0.00000000e+00  1.60392408e+00 -0.00000000e+00 -0.00000000e+00\n",
      " -0.00000000e+00 -0.00000000e+00 -1.48304303e-01  1.72320364e+00\n",
      "  0.00000000e+00 -1.69163028e+01 -1.22854029e+01 -5.56830160e+00\n",
      " -0.00000000e+00  9.98703273e+00 -3.69392386e+00  0.00000000e+00\n",
      "  0.00000000e+00  0.00000000e+00 -1.54095602e+01 -2.47377526e+01\n",
      " -0.00000000e+00  1.58737182e+01  0.00000000e+00  0.00000000e+00\n",
      "  0.00000000e+00 -0.00000000e+00  4.88567004e+00 -0.00000000e+00\n",
      " -8.53126151e+00 -1.40965437e+00 -5.99201762e+00  1.08718224e+01\n",
      "  2.55656242e+00  0.00000000e+00 -1.67249899e+01 -0.00000000e+00\n",
      " -0.00000000e+00  0.00000000e+00 -2.33952115e+00  4.88418732e+00\n",
      "  0.00000000e+00  0.00000000e+00  0.00000000e+00  0.00000000e+00\n",
      " -1.77648158e+00 -0.00000000e+00  0.00000000e+00 -1.90332522e+00\n",
      "  6.50965883e+00 -0.00000000e+00 -0.00000000e+00 -7.14083191e+00\n",
      "  8.11412286e-01 -2.82661047e+00 -4.48472272e+00  8.19533819e-01\n",
      " -0.00000000e+00 -0.00000000e+00 -4.49445329e+00 -0.00000000e+00\n",
      " -3.75205227e+00  4.59692454e+00 -1.26510834e+00  1.20349190e+00\n",
      "  0.00000000e+00 -2.55128648e+00  9.23874183e+00 -0.00000000e+00\n",
      "  0.00000000e+00 -1.34432183e+00  0.00000000e+00 -3.69489009e+00\n",
      "  0.00000000e+00  0.00000000e+00  3.42689067e+00  0.00000000e+00\n",
      " -0.00000000e+00  0.00000000e+00 -0.00000000e+00 -0.00000000e+00\n",
      " -0.00000000e+00 -4.49534505e-01  0.00000000e+00 -3.55792974e+00\n",
      " -0.00000000e+00]\n"
     ]
    },
    {
     "name": "stderr",
     "output_type": "stream",
     "text": [
      "C:\\Users\\Ian Johnston\\Anaconda3\\envs\\MSE1065\\lib\\site-packages\\sklearn\\linear_model\\_coordinate_descent.py:476: ConvergenceWarning: Objective did not converge. You might want to increase the number of iterations. Duality gap: 22700.516066385473, tolerance: 1198.3236567335246\n",
      "  positive)\n"
     ]
    }
   ],
   "source": [
    "#Code demonstration for fitting a sparse model \n",
    "from sklearn import linear_model\n",
    "sparseModel = linear_model.Lasso(alpha=0.1)\n",
    "sparseModel.fit(X_train,y_train)\n",
    "print(\"Coeffiecients \", sparseModel.coef_)\n",
    "\n",
    "#you can see most of the coefficients are zero "
   ]
  },
  {
   "cell_type": "code",
   "execution_count": null,
   "metadata": {},
   "outputs": [],
   "source": []
  }
 ],
 "metadata": {
  "kernelspec": {
   "display_name": "Python 3",
   "language": "python",
   "name": "python3"
  },
  "language_info": {
   "codemirror_mode": {
    "name": "ipython",
    "version": 3
   },
   "file_extension": ".py",
   "mimetype": "text/x-python",
   "name": "python",
   "nbconvert_exporter": "python",
   "pygments_lexer": "ipython3",
   "version": "3.6.10"
  }
 },
 "nbformat": 4,
 "nbformat_minor": 4
}
