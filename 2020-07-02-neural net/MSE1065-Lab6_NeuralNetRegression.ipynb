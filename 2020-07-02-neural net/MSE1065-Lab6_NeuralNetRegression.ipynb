{
 "cells": [
  {
   "cell_type": "markdown",
   "metadata": {},
   "source": [
    "## *Using neural networks to estimate Young's Modulus for elements*"
   ]
  },
  {
   "cell_type": "markdown",
   "metadata": {},
   "source": [
    "Packages \n",
    "<ul>\n",
    "    <li>Pymatgen</li>\n",
    "    <li> Mendeleev</li>\n",
    "    <li> SKlearn </li>\n",
    "    <li> Matplotlib </li>\n",
    "    </ul>\n",
    "    "
   ]
  },
  {
   "cell_type": "markdown",
   "metadata": {},
   "source": [
    "In this lab we will learn how to use neural networks from the SKlearn library to create a regression model to estimate Young's modulus.\n",
    "\n",
    "Agenda for this lab is \n",
    "\n",
    "1. Query online databases such as Pymatgen and Mendeleev to obtain element attributes and properties\n",
    "2. Use SKLearn's nonlinear module for Neural network regression\n",
    "3. Analyze the model performance by varying number of hidden units and hidden layers"
   ]
  },
  {
   "cell_type": "markdown",
   "metadata": {},
   "source": [
    "### 1. Getting a dataset\n",
    "\n",
    "In this section we will query both [Pymatgen](http://pymatgen.org/) and [Mendeleev](https://mendeleev.readthedocs.io/en/stable/) to get a complete set of properties per element. We will use this data to create the cases from which the model will train and test.\n",
    "<br>\n",
    "<br>\n",
    "In this first snippet of code we will import all relevant libraries, the elements that will be turned into cases and the properties that will serve as the attributes for the cases. We will get 49 entries (which is a small dataset), but should give us a somewhat accurate prediction. We will also include some values to \"patch\" some unknown values in the dataset. It is important to note that more entries would move the prediction closer to the real value, and so would more attributes.\n",
    "<br>\n",
    "<br>\n",
    "The elements listed were chosen because querying them for these properties yields a dataset with few unknown values, and because they represent the three most common crystallographic structures."
   ]
  },
  {
   "cell_type": "code",
   "execution_count": 35,
   "metadata": {},
   "outputs": [],
   "source": [
    "import pymatgen as pymat\n",
    "import mendeleev as mendel\n",
    "import pandas as pd\n",
    "import numpy as np\n",
    "%matplotlib inline\n",
    "import matplotlib.pyplot as plt"
   ]
  },
  {
   "cell_type": "code",
   "execution_count": 80,
   "metadata": {},
   "outputs": [],
   "source": [
    "fcc_elements = [\"Ag\", \"Al\", \"Au\", \"Cu\", \"Ir\", \"Ni\", \"Pb\", \"Pd\", \"Pt\", \"Rh\", \"Th\", \"Yb\"]\n",
    "bcc_elements = [\"Ba\", \"Cr\", \"Cs\", \"Eu\", \"Fe\", \"Li\", \"Mn\", \"Mo\", \"Na\", \"Nb\", \"Rb\", \"Ta\", \"V\", \"W\" ]\n",
    "hcp_elements = [\"Be\", \"Ca\", \"Cd\", \"Co\", \"Dy\", \"Er\", \"Gd\", \"Hf\", \"Ho\", \"Lu\", \"Mg\", \"Re\", \n",
    "                \"Ru\", \"Sc\", \"Tb\", \"Ti\", \"Tl\", \"Tm\", \"Y\", \"Zn\", \"Zr\"]\n",
    "others = [\"Si\", \"Ge\"] # \"Si\" and \"Ge\" are Face-centered diamond-cubic;\n",
    "\n",
    "\n",
    "# This is the list containing all the above elements\n",
    "elements = fcc_elements + others + bcc_elements + hcp_elements\n",
    "\n",
    "# Below is the list of features that we need to obtain from Mendeleev database\n",
    "querable_mendeleev = [\"atomic_number\", \"atomic_volume\", \"boiling_point\",\n",
    "                      \"en_ghosh\",  \"evaporation_heat\", \"heat_of_formation\",\n",
    "                     \"lattice_constant\", \"specific_heat\"]\n",
    "\n",
    "# Below is the list of features that we need to obtain from Pymaten database\n",
    "querable_pymatgen = [\"atomic_mass\", \"atomic_radius\", \"electrical_resistivity\",\n",
    "                     \"molar_volume\", \"bulk_modulus\", \"youngs_modulus\",\n",
    "                     \"average_ionic_radius\", \"density_of_solid\",\n",
    "                     \"coefficient_of_linear_thermal_expansion\"]\n",
    "\n",
    "#The list below includes all the properties\n",
    "querable_values = querable_mendeleev + querable_pymatgen"
   ]
  },
  {
   "cell_type": "markdown",
   "metadata": {},
   "source": [
    "After setting these values, we will proceed with our queries. Depending on the database (either Pymatgen or Mendeleev) where the property can be found, the code below fills up a list with the properties of each of the elements. To visualize how the dataset we just created looks, we will use the [Pandas](https://pandas.pydata.org/) library to display it. This library will take the list of lists and show it in a nice, user-friendly table with the properties as the column headers."
   ]
  },
  {
   "cell_type": "markdown",
   "metadata": {},
   "source": [
    "* <font color=blue> **Exercise 1.** Fill in the code snippet below to query Pymatgen and Mendeleev for the required properties.</font>"
   ]
  },
  {
   "cell_type": "code",
   "execution_count": 103,
   "metadata": {},
   "outputs": [],
   "source": [
    "all_values = [] # Values for Attributes\n",
    "all_labels = [] # Values for Young's Modulus (Property to be estimated)\n",
    "\n",
    "for item in elements:\n",
    "    element_values = []\n",
    "    \n",
    "    # This section queries Mendeleev\n",
    "    element_object = mendel.element(item) # Enter your code here\n",
    "    #Ques - Write a for loop over querable_mendeleev and append the property value in element_values\n",
    "    for i in querable_mendeleev:\n",
    "        element_values.append(getattr(element_object, i))\n",
    "    #df = df[querable_mendeleev]\n",
    "\n",
    "    # This section queries Pymatgen\n",
    "    element_object = pymat.Element(item) # Enter your code here\n",
    "    #Ques - Write a for loop over querable_pymatgen and append the property value in element_values\n",
    "    \n",
    "    for i in querable_pymatgen:\n",
    "        element_values.append(getattr(element_object, i))\n",
    "    \n",
    "    all_values.append(element_values) # All lists are appended to another list, creating a list of lists\n",
    "    "
   ]
  },
  {
   "cell_type": "code",
   "execution_count": 104,
   "metadata": {},
   "outputs": [],
   "source": [
    "# Only run this cell once you are done with data query part in the cell above.\n",
    "# This cell is for debugging purpose. \n",
    "assert(len(all_values) == len(elements)),\"Len of all_values not equal to len of elements.\""
   ]
  },
  {
   "cell_type": "code",
   "execution_count": 105,
   "metadata": {},
   "outputs": [],
   "source": [
    "# This code replaces some missing values in the data. You don't need to fill anything here. Just run this cell before moving forward.\n",
    "# Pandas Dataframe\n",
    "import os\n",
    "df = pd.DataFrame(all_values, columns=querable_values)\n",
    "\n",
    "# We will patch some of the values that are not available in the datasets.\n",
    "\n",
    "# Value for the CTE of Cesium\n",
    "index_Cs = df.index[df['atomic_number'] == 55]\n",
    "df.iloc[index_Cs, df.columns.get_loc(\"coefficient_of_linear_thermal_expansion\")] = 0.000097 \n",
    "# Value from: David R. Lide (ed), CRC Handbook of Chemistry and Physics, 84th Edition. CRC Press. Boca Raton, Florida, 2003\n",
    "\n",
    "# Value for the CTE of Rubidium\n",
    "index_Rb = df.index[df['atomic_number'] == 37]\n",
    "df.iloc[index_Rb, df.columns.get_loc(\"coefficient_of_linear_thermal_expansion\")] = 0.000090 \n",
    "# Value from: https://www.azom.com/article.aspx?ArticleID=1834\n",
    "\n",
    "# Value for the Evaporation Heat of Ruthenium\n",
    "index_Ru = df.index[df['atomic_number'] == 44]\n",
    "df.iloc[index_Ru, df.columns.get_loc(\"evaporation_heat\")] = 595 # kJ/mol \n",
    "# Value from: https://www.webelements.com/ruthenium/thermochemistry.html\n",
    "\n",
    "# Value for the Bulk Modulus of Zirconium\n",
    "index_Zr = df.index[df['atomic_number'] == 40]\n",
    "df.iloc[index_Zr, df.columns.get_loc(\"bulk_modulus\")] = 94 # GPa \n",
    "# Value from: https://materialsproject.org/materials/mp-131/\n",
    "\n",
    "# Value for the Bulk Modulus of Germanium\n",
    "index_Ge = df.index[df['atomic_number'] == 32]\n",
    "df.iloc[index_Ge, df.columns.get_loc(\"bulk_modulus\")] = 77.2 # GPa \n",
    "# Value from: https://www.crystran.co.uk/optical-materials/germanium-ge\n",
    "\n",
    "# Value for the Young's Modulus of Germanium\n",
    "index_Ge = df.index[df['atomic_number'] == 32]\n",
    "df.iloc[index_Ge, df.columns.get_loc(\"youngs_modulus\")] = 102.7 # GPa \n",
    "# Value from: https://www.crystran.co.uk/optical-materials/germanium-ge\n"
   ]
  },
  {
   "cell_type": "code",
   "execution_count": 110,
   "metadata": {},
   "outputs": [
    {
     "data": {
      "text/html": [
       "<div>\n",
       "<style scoped>\n",
       "    .dataframe tbody tr th:only-of-type {\n",
       "        vertical-align: middle;\n",
       "    }\n",
       "\n",
       "    .dataframe tbody tr th {\n",
       "        vertical-align: top;\n",
       "    }\n",
       "\n",
       "    .dataframe thead th {\n",
       "        text-align: right;\n",
       "    }\n",
       "</style>\n",
       "<table border=\"1\" class=\"dataframe\">\n",
       "  <thead>\n",
       "    <tr style=\"text-align: right;\">\n",
       "      <th></th>\n",
       "      <th>atomic_number</th>\n",
       "      <th>atomic_volume</th>\n",
       "      <th>boiling_point</th>\n",
       "      <th>en_ghosh</th>\n",
       "      <th>evaporation_heat</th>\n",
       "      <th>heat_of_formation</th>\n",
       "      <th>lattice_constant</th>\n",
       "      <th>specific_heat</th>\n",
       "      <th>atomic_mass</th>\n",
       "      <th>atomic_radius</th>\n",
       "      <th>electrical_resistivity</th>\n",
       "      <th>molar_volume</th>\n",
       "      <th>bulk_modulus</th>\n",
       "      <th>average_ionic_radius</th>\n",
       "      <th>density_of_solid</th>\n",
       "      <th>coefficient_of_linear_thermal_expansion</th>\n",
       "    </tr>\n",
       "  </thead>\n",
       "  <tbody>\n",
       "    <tr>\n",
       "      <th>0</th>\n",
       "      <td>47</td>\n",
       "      <td>10.30</td>\n",
       "      <td>2485.0</td>\n",
       "      <td>0.147217</td>\n",
       "      <td>254.1</td>\n",
       "      <td>284.9</td>\n",
       "      <td>4.09</td>\n",
       "      <td>0.237</td>\n",
       "      <td>107.868200</td>\n",
       "      <td>1.60</td>\n",
       "      <td>1.630000e-08</td>\n",
       "      <td>10.27</td>\n",
       "      <td>100.0</td>\n",
       "      <td>1.086667</td>\n",
       "      <td>10490.0</td>\n",
       "      <td>0.000019</td>\n",
       "    </tr>\n",
       "    <tr>\n",
       "      <th>1</th>\n",
       "      <td>13</td>\n",
       "      <td>10.00</td>\n",
       "      <td>2740.0</td>\n",
       "      <td>0.150078</td>\n",
       "      <td>284.1</td>\n",
       "      <td>330.9</td>\n",
       "      <td>4.05</td>\n",
       "      <td>0.900</td>\n",
       "      <td>26.981539</td>\n",
       "      <td>1.25</td>\n",
       "      <td>2.700000e-08</td>\n",
       "      <td>10.00</td>\n",
       "      <td>76.0</td>\n",
       "      <td>0.675000</td>\n",
       "      <td>2700.0</td>\n",
       "      <td>0.000023</td>\n",
       "    </tr>\n",
       "    <tr>\n",
       "      <th>2</th>\n",
       "      <td>79</td>\n",
       "      <td>10.20</td>\n",
       "      <td>3080.0</td>\n",
       "      <td>0.261370</td>\n",
       "      <td>340.0</td>\n",
       "      <td>368.2</td>\n",
       "      <td>4.08</td>\n",
       "      <td>0.129</td>\n",
       "      <td>196.966569</td>\n",
       "      <td>1.35</td>\n",
       "      <td>2.200000e-08</td>\n",
       "      <td>10.21</td>\n",
       "      <td>220.0</td>\n",
       "      <td>1.070000</td>\n",
       "      <td>19300.0</td>\n",
       "      <td>0.000014</td>\n",
       "    </tr>\n",
       "    <tr>\n",
       "      <th>3</th>\n",
       "      <td>29</td>\n",
       "      <td>7.10</td>\n",
       "      <td>2840.0</td>\n",
       "      <td>0.151172</td>\n",
       "      <td>304.6</td>\n",
       "      <td>337.4</td>\n",
       "      <td>3.61</td>\n",
       "      <td>0.385</td>\n",
       "      <td>63.546000</td>\n",
       "      <td>1.35</td>\n",
       "      <td>1.720000e-08</td>\n",
       "      <td>7.11</td>\n",
       "      <td>140.0</td>\n",
       "      <td>0.820000</td>\n",
       "      <td>8920.0</td>\n",
       "      <td>0.000017</td>\n",
       "    </tr>\n",
       "    <tr>\n",
       "      <th>4</th>\n",
       "      <td>77</td>\n",
       "      <td>8.54</td>\n",
       "      <td>4403.0</td>\n",
       "      <td>0.251060</td>\n",
       "      <td>604.0</td>\n",
       "      <td>669.0</td>\n",
       "      <td>3.84</td>\n",
       "      <td>0.133</td>\n",
       "      <td>192.217000</td>\n",
       "      <td>1.35</td>\n",
       "      <td>4.700000e-08</td>\n",
       "      <td>8.52</td>\n",
       "      <td>320.0</td>\n",
       "      <td>0.765000</td>\n",
       "      <td>22650.0</td>\n",
       "      <td>0.000006</td>\n",
       "    </tr>\n",
       "    <tr>\n",
       "      <th>5</th>\n",
       "      <td>28</td>\n",
       "      <td>6.60</td>\n",
       "      <td>3005.0</td>\n",
       "      <td>0.147207</td>\n",
       "      <td>378.6</td>\n",
       "      <td>430.1</td>\n",
       "      <td>3.52</td>\n",
       "      <td>0.443</td>\n",
       "      <td>58.693400</td>\n",
       "      <td>1.35</td>\n",
       "      <td>7.200000e-08</td>\n",
       "      <td>6.59</td>\n",
       "      <td>180.0</td>\n",
       "      <td>0.740000</td>\n",
       "      <td>8908.0</td>\n",
       "      <td>0.000013</td>\n",
       "    </tr>\n",
       "    <tr>\n",
       "      <th>6</th>\n",
       "      <td>82</td>\n",
       "      <td>18.30</td>\n",
       "      <td>2013.0</td>\n",
       "      <td>0.177911</td>\n",
       "      <td>177.8</td>\n",
       "      <td>195.2</td>\n",
       "      <td>4.95</td>\n",
       "      <td>0.159</td>\n",
       "      <td>207.200000</td>\n",
       "      <td>1.80</td>\n",
       "      <td>2.100000e-07</td>\n",
       "      <td>18.26</td>\n",
       "      <td>46.0</td>\n",
       "      <td>1.122500</td>\n",
       "      <td>11340.0</td>\n",
       "      <td>0.000029</td>\n",
       "    </tr>\n",
       "    <tr>\n",
       "      <th>7</th>\n",
       "      <td>46</td>\n",
       "      <td>8.90</td>\n",
       "      <td>3413.0</td>\n",
       "      <td>0.144028</td>\n",
       "      <td>372.4</td>\n",
       "      <td>376.6</td>\n",
       "      <td>3.89</td>\n",
       "      <td>0.244</td>\n",
       "      <td>106.420000</td>\n",
       "      <td>1.40</td>\n",
       "      <td>1.080000e-07</td>\n",
       "      <td>8.56</td>\n",
       "      <td>180.0</td>\n",
       "      <td>0.846250</td>\n",
       "      <td>12023.0</td>\n",
       "      <td>0.000012</td>\n",
       "    </tr>\n",
       "    <tr>\n",
       "      <th>8</th>\n",
       "      <td>78</td>\n",
       "      <td>9.10</td>\n",
       "      <td>4100.0</td>\n",
       "      <td>0.256910</td>\n",
       "      <td>470.0</td>\n",
       "      <td>565.7</td>\n",
       "      <td>3.92</td>\n",
       "      <td>0.133</td>\n",
       "      <td>195.084000</td>\n",
       "      <td>1.35</td>\n",
       "      <td>1.060000e-07</td>\n",
       "      <td>9.09</td>\n",
       "      <td>230.0</td>\n",
       "      <td>0.805000</td>\n",
       "      <td>21090.0</td>\n",
       "      <td>0.000009</td>\n",
       "    </tr>\n",
       "    <tr>\n",
       "      <th>9</th>\n",
       "      <td>45</td>\n",
       "      <td>8.30</td>\n",
       "      <td>4000.0</td>\n",
       "      <td>0.140838</td>\n",
       "      <td>494.0</td>\n",
       "      <td>556.0</td>\n",
       "      <td>3.80</td>\n",
       "      <td>0.244</td>\n",
       "      <td>102.905500</td>\n",
       "      <td>1.35</td>\n",
       "      <td>4.300000e-08</td>\n",
       "      <td>8.28</td>\n",
       "      <td>380.0</td>\n",
       "      <td>0.745000</td>\n",
       "      <td>12450.0</td>\n",
       "      <td>0.000008</td>\n",
       "    </tr>\n",
       "  </tbody>\n",
       "</table>\n",
       "</div>"
      ],
      "text/plain": [
       "   atomic_number  atomic_volume  boiling_point  en_ghosh  evaporation_heat  \\\n",
       "0             47          10.30         2485.0  0.147217             254.1   \n",
       "1             13          10.00         2740.0  0.150078             284.1   \n",
       "2             79          10.20         3080.0  0.261370             340.0   \n",
       "3             29           7.10         2840.0  0.151172             304.6   \n",
       "4             77           8.54         4403.0  0.251060             604.0   \n",
       "5             28           6.60         3005.0  0.147207             378.6   \n",
       "6             82          18.30         2013.0  0.177911             177.8   \n",
       "7             46           8.90         3413.0  0.144028             372.4   \n",
       "8             78           9.10         4100.0  0.256910             470.0   \n",
       "9             45           8.30         4000.0  0.140838             494.0   \n",
       "\n",
       "   heat_of_formation  lattice_constant  specific_heat  atomic_mass  \\\n",
       "0              284.9              4.09          0.237   107.868200   \n",
       "1              330.9              4.05          0.900    26.981539   \n",
       "2              368.2              4.08          0.129   196.966569   \n",
       "3              337.4              3.61          0.385    63.546000   \n",
       "4              669.0              3.84          0.133   192.217000   \n",
       "5              430.1              3.52          0.443    58.693400   \n",
       "6              195.2              4.95          0.159   207.200000   \n",
       "7              376.6              3.89          0.244   106.420000   \n",
       "8              565.7              3.92          0.133   195.084000   \n",
       "9              556.0              3.80          0.244   102.905500   \n",
       "\n",
       "   atomic_radius  electrical_resistivity  molar_volume  bulk_modulus  \\\n",
       "0           1.60            1.630000e-08         10.27         100.0   \n",
       "1           1.25            2.700000e-08         10.00          76.0   \n",
       "2           1.35            2.200000e-08         10.21         220.0   \n",
       "3           1.35            1.720000e-08          7.11         140.0   \n",
       "4           1.35            4.700000e-08          8.52         320.0   \n",
       "5           1.35            7.200000e-08          6.59         180.0   \n",
       "6           1.80            2.100000e-07         18.26          46.0   \n",
       "7           1.40            1.080000e-07          8.56         180.0   \n",
       "8           1.35            1.060000e-07          9.09         230.0   \n",
       "9           1.35            4.300000e-08          8.28         380.0   \n",
       "\n",
       "   average_ionic_radius  density_of_solid  \\\n",
       "0              1.086667           10490.0   \n",
       "1              0.675000            2700.0   \n",
       "2              1.070000           19300.0   \n",
       "3              0.820000            8920.0   \n",
       "4              0.765000           22650.0   \n",
       "5              0.740000            8908.0   \n",
       "6              1.122500           11340.0   \n",
       "7              0.846250           12023.0   \n",
       "8              0.805000           21090.0   \n",
       "9              0.745000           12450.0   \n",
       "\n",
       "   coefficient_of_linear_thermal_expansion  \n",
       "0                                 0.000019  \n",
       "1                                 0.000023  \n",
       "2                                 0.000014  \n",
       "3                                 0.000017  \n",
       "4                                 0.000006  \n",
       "5                                 0.000013  \n",
       "6                                 0.000029  \n",
       "7                                 0.000012  \n",
       "8                                 0.000009  \n",
       "9                                 0.000008  "
      ]
     },
     "execution_count": 110,
     "metadata": {},
     "output_type": "execute_result"
    }
   ],
   "source": [
    "# The labels (values for Young's modulus) are stored separately for clarity (We drop the column later)\n",
    "\n",
    "all_labels = df['youngs_modulus'].tolist()\n",
    "df = df.drop(['youngs_modulus'], axis=1)\n",
    "\n",
    "df.head(n=10) # With this line you can see the first ten entries of our database"
   ]
  },
  {
   "cell_type": "markdown",
   "metadata": {},
   "source": [
    "* <font color=blue> **Exercise 2.** Use the Pandas dataframe created above to plot Young's modulus vs lattice constant. Note that this is recreating the plot from previous tutorials, but using the Pandas framework to slice and access data </font>"
   ]
  },
  {
   "cell_type": "code",
   "execution_count": 111,
   "metadata": {},
   "outputs": [
    {
     "data": {
      "text/plain": [
       "Text(0, 0.5, 'Youngs Modulus')"
      ]
     },
     "execution_count": 111,
     "metadata": {},
     "output_type": "execute_result"
    },
    {
     "data": {
      "image/png": "[encoded data removed]",
      "text/plain": [
       "<Figure size 432x288 with 1 Axes>"
      ]
     },
     "metadata": {
      "needs_background": "light"
     },
     "output_type": "display_data"
    }
   ],
   "source": [
    "# Enter your code here\n",
    "\n",
    "# prep data\n",
    "x = df.lattice_constant.values\n",
    "y = all_labels\n",
    "\n",
    "\n",
    "fig, ax = plt.subplots(1,1)\n",
    "\n",
    "ax = plt.scatter(x, y)\n",
    "\n",
    "plt.xlabel('Lattice Constant')\n",
    "plt.ylabel('Youngs Modulus')"
   ]
  },
  {
   "cell_type": "markdown",
   "metadata": {},
   "source": [
    "### 2. Processing and Organizing Data\n",
    "\n",
    "Most machine learning models are trained on a subset of all the available data, called the \"training set\", and the models are tested on the remainder of the available data, called the \"testing set\". Model performance has often been found to be enhanced when the inputs are normalized.\n",
    "\n",
    "##### SETS\n",
    "\n",
    "With the dataset we just created, we have 49 entries for our model. We will train with 44 cases and test on the remaining 5 elements to estimate Young's Modulus.\n",
    "\n",
    "##### NORMALIZATION\n",
    "\n",
    "Each one of these input data features has different units and is represented in scales with distinct orders of magnitude. Datasets that contain inputs like this need to be normalized, so that quantities with large values do not *overwhelm* the neural network, forcing it tune its weights to account for the different scales of our input data. In this tutorial, we will use the Standard Score Normalization, which subtracts the mean of the feature and divide by its standard deviation.\n",
    "\n",
    "<span style=\"font-size:2em;\">$ \\frac{X - µ}{σ} $ </span>\n",
    "\n",
    "While our model might converge without feature normalization, the resultant model would be difficult to train and would be dependent on the choice of units used in the input."
   ]
  },
  {
   "cell_type": "markdown",
   "metadata": {},
   "source": [
    "* <font color=blue> **Exercise 3.** Perform normalization on the input features stored in the dataframe df </font>"
   ]
  },
  {
   "cell_type": "code",
   "execution_count": 114,
   "metadata": {},
   "outputs": [
    {
     "name": "stdout",
     "output_type": "stream",
     "text": [
      "[ 7.25043608e-17 -1.35945676e-17 -3.17206578e-17  2.99080488e-16\n",
      " -2.31107650e-16  2.12981560e-16  3.17206578e-16  5.66440319e-17\n",
      "  6.91057189e-17  6.55371449e-16 -2.77555756e-17  6.96721592e-17\n",
      " -1.61435491e-16  1.57470409e-16  1.01959257e-17 -5.66440319e-17]\n",
      "[1. 1. 1. 1. 1. 1. 1. 1. 1. 1. 1. 1. 1. 1. 1. 1.]\n"
     ]
    }
   ],
   "source": [
    "meanX = df.values.mean(axis = 0)\n",
    "stdX =  df.values.std(axis = 0)\n",
    "normX =  (df.values - meanX) / stdX\n",
    "\n",
    "#check work\n",
    "print(normX.mean(axis = 0))\n",
    "print(normX.var(axis = 0))"
   ]
  },
  {
   "cell_type": "markdown",
   "metadata": {},
   "source": [
    "* <font color=blue> **Exercise 4.** Check if there is any Nan in the dataframe normX </font> \n",
    "\n",
    "Hint - you may want to check numpy' isnan( ) method. This returns boolean matrix, the sum of which can tell the total number of NaN's in your input dataframe"
   ]
  },
  {
   "cell_type": "code",
   "execution_count": 118,
   "metadata": {},
   "outputs": [
    {
     "data": {
      "text/plain": [
       "0"
      ]
     },
     "execution_count": 118,
     "metadata": {},
     "output_type": "execute_result"
    }
   ],
   "source": [
    "#count how many NaN (aka True aka 1 values are in the original dataframe)\n",
    "\n",
    "np.count_nonzero(np.isnan(df.values))"
   ]
  },
  {
   "cell_type": "markdown",
   "metadata": {},
   "source": [
    "##### Split data into training and test set"
   ]
  },
  {
   "cell_type": "markdown",
   "metadata": {},
   "source": [
    "* <font color=blue> **Exercise 5.** Use SKLearn's train_test_split to obtain training and test set. Use 10% as test set </font> "
   ]
  },
  {
   "cell_type": "code",
   "execution_count": 120,
   "metadata": {},
   "outputs": [],
   "source": [
    "#Enter your code here\n",
    "from sklearn.model_selection import train_test_split\n",
    "\n",
    "X_train, X_test, y_train, y_test = train_test_split(normX, all_labels, test_size = 0.2)"
   ]
  },
  {
   "cell_type": "markdown",
   "metadata": {},
   "source": [
    "* <font color=blue> **Exercise 6.** Use SKLearn's neural network class to create a neural network with 20 hidden units and one layer. The default activation function is relu and we will use it for this part of the assignement. In the next part, we will change the activation function but for now lets keep everything except the number of hidden units at default values. </font> "
   ]
  },
  {
   "cell_type": "code",
   "execution_count": 125,
   "metadata": {},
   "outputs": [],
   "source": [
    "#import dependencies\n",
    "from sklearn.neural_network import MLPRegressor\n",
    "\n",
    "#define model\n",
    "\n",
    "reg = MLPRegressor(hidden_layer_sizes= (20, ), activation= 'relu')\n"
   ]
  },
  {
   "cell_type": "markdown",
   "metadata": {},
   "source": [
    "* <font color=blue> **Exercise 7.** Fit the above neural network on the training set. </font> "
   ]
  },
  {
   "cell_type": "code",
   "execution_count": 126,
   "metadata": {},
   "outputs": [
    {
     "name": "stderr",
     "output_type": "stream",
     "text": [
      "C:\\Users\\Ian Johnston\\Anaconda3\\envs\\MSE1065\\lib\\site-packages\\sklearn\\neural_network\\_multilayer_perceptron.py:571: ConvergenceWarning: Stochastic Optimizer: Maximum iterations (200) reached and the optimization hasn't converged yet.\n",
      "  % self.max_iter, ConvergenceWarning)\n"
     ]
    },
    {
     "data": {
      "text/plain": [
       "MLPRegressor(activation='relu', alpha=0.0001, batch_size='auto', beta_1=0.9,\n",
       "             beta_2=0.999, early_stopping=False, epsilon=1e-08,\n",
       "             hidden_layer_sizes=(20, 1), learning_rate='constant',\n",
       "             learning_rate_init=0.001, max_fun=15000, max_iter=200,\n",
       "             momentum=0.9, n_iter_no_change=10, nesterovs_momentum=True,\n",
       "             power_t=0.5, random_state=None, shuffle=True, solver='adam',\n",
       "             tol=0.0001, validation_fraction=0.1, verbose=False,\n",
       "             warm_start=False)"
      ]
     },
     "execution_count": 126,
     "metadata": {},
     "output_type": "execute_result"
    }
   ],
   "source": [
    "#Enter your code here\n",
    "\n",
    "reg.fit(X_train, y_train)"
   ]
  },
  {
   "cell_type": "markdown",
   "metadata": {},
   "source": [
    "* <font color=blue> **Exercise 8.** Use the fitted model to predict on training set and compute mean absolute error . </font> "
   ]
  },
  {
   "cell_type": "code",
   "execution_count": 130,
   "metadata": {},
   "outputs": [
    {
     "name": "stdout",
     "output_type": "stream",
     "text": [
      "the mean absolute error is 123.94\n"
     ]
    }
   ],
   "source": [
    "#load dependencies\n",
    "from sklearn.metrics import mean_absolute_error\n",
    "\n",
    "#get train predictions\n",
    "y_train_prediction = reg.predict(X_train)\n",
    "\n",
    "print('the mean absolute error for training data is %0.2f' % mean_absolute_error(y_train, y_train_prediction))\n"
   ]
  },
  {
   "cell_type": "markdown",
   "metadata": {},
   "source": [
    "* <font color=blue> **Exercise 9.** Use the fitted model to predict on test set and compute mean absolute error . </font> "
   ]
  },
  {
   "cell_type": "code",
   "execution_count": 131,
   "metadata": {},
   "outputs": [
    {
     "name": "stdout",
     "output_type": "stream",
     "text": [
      "the mean absolute error for testing data is 138.27\n"
     ]
    }
   ],
   "source": [
    "#load dependencies\n",
    "from sklearn.metrics import mean_absolute_error\n",
    "\n",
    "#get train predictions\n",
    "y_test_prediction = reg.predict(X_test)\n",
    "\n",
    "print('the mean absolute error for testing data is %0.2f' % mean_absolute_error(y_test, y_test_prediction))\n"
   ]
  },
  {
   "cell_type": "markdown",
   "metadata": {},
   "source": [
    "* <font color=blue> **Exercise 10.** In this part we will increase the number of hidden units to 100 and compare the performance to previous model. Fit a neural network with 100 hidden units to the above training data. Compute mean absolute error on both training and test set. Comment on your findings i.e. how MAE changed on increasing number of hidden units. </font> "
   ]
  },
  {
   "cell_type": "code",
   "execution_count": 133,
   "metadata": {},
   "outputs": [
    {
     "name": "stdout",
     "output_type": "stream",
     "text": [
      "the mean absolute error for training data is 103.47\n",
      "the mean absolute error for testing data is 115.23\n"
     ]
    },
    {
     "name": "stderr",
     "output_type": "stream",
     "text": [
      "C:\\Users\\Ian Johnston\\Anaconda3\\envs\\MSE1065\\lib\\site-packages\\sklearn\\neural_network\\_multilayer_perceptron.py:571: ConvergenceWarning: Stochastic Optimizer: Maximum iterations (200) reached and the optimization hasn't converged yet.\n",
      "  % self.max_iter, ConvergenceWarning)\n"
     ]
    }
   ],
   "source": [
    "#define model\n",
    "\n",
    "reg = MLPRegressor(hidden_layer_sizes= (100, ), \\\n",
    "                   activation= 'relu').fit(X_train, y_train)\n",
    "#get train predictions\n",
    "y_train_prediction = reg.predict(X_train)\n",
    "\n",
    "print('the mean absolute error for training data is %0.2f' % mean_absolute_error(y_train, y_train_prediction))\n",
    "\n",
    "#get train predictions\n",
    "y_test_prediction = reg.predict(X_test)\n",
    "\n",
    "print('the mean absolute error for testing data is %0.2f' % mean_absolute_error(y_test, y_test_prediction))\n"
   ]
  },
  {
   "cell_type": "markdown",
   "metadata": {},
   "source": [
    "* <font color=blue> **Exercise 11.** In the last part, we had a single layer of hidden units. In this part we will add an additional hidden layers of 100 units and compare the performance to previous model. Fit a neural network with 2 layers each with 100 hidden units to the above training data. Compute mean absolute error on both training and test set. Comment on your findings i.e. how MAE changed on increasing number of hidden layers. </font>"
   ]
  },
  {
   "cell_type": "code",
   "execution_count": 152,
   "metadata": {},
   "outputs": [
    {
     "name": "stdout",
     "output_type": "stream",
     "text": [
      "the mean absolute error for training data is 42.32\n",
      "the mean absolute error for testing data is 47.51\n"
     ]
    },
    {
     "name": "stderr",
     "output_type": "stream",
     "text": [
      "C:\\Users\\Ian Johnston\\Anaconda3\\envs\\MSE1065\\lib\\site-packages\\sklearn\\neural_network\\_multilayer_perceptron.py:571: ConvergenceWarning: Stochastic Optimizer: Maximum iterations (200) reached and the optimization hasn't converged yet.\n",
      "  % self.max_iter, ConvergenceWarning)\n"
     ]
    }
   ],
   "source": [
    "#define model\n",
    "\n",
    "reg = MLPRegressor(hidden_layer_sizes= (100, 100), \\\n",
    "                   activation= 'relu').fit(X_train, y_train)\n",
    "#get train predictions\n",
    "y_train_prediction = reg.predict(X_train)\n",
    "\n",
    "print('the mean absolute error for training data is %0.2f' % mean_absolute_error(y_train, y_train_prediction))\n",
    "\n",
    "#get train predictions\n",
    "y_test_prediction = reg.predict(X_test)\n",
    "\n",
    "print('the mean absolute error for testing data is %0.2f' % mean_absolute_error(y_test, y_test_prediction))\n"
   ]
  },
  {
   "cell_type": "markdown",
   "metadata": {},
   "source": [
    "### Comments on the above question\n",
    "\n",
    "Both the training and test error are lower with addition of more neurons and an extra layer. Increasing the number of neurons by 5 has a smaller affect on the MAE compared to adding extra layers. On the basis of inspection, increasing model complexity through extra layers improves its fit most rapidly"
   ]
  },
  {
   "cell_type": "markdown",
   "metadata": {},
   "source": [
    "* <font color=blue> **Exercise 12.** So far, we have been working with Relu activation function. In this part we will change the activation function to be tanh and compare the performance to previous model. Fit a neural network with 2 layers each with 100 hidden units to the above training data, with tanh as activation function. Compute mean absolute error on both training and test set. Comment on your findings i.e. how MAE changed with activation function. </font>"
   ]
  },
  {
   "cell_type": "code",
   "execution_count": 153,
   "metadata": {},
   "outputs": [
    {
     "name": "stdout",
     "output_type": "stream",
     "text": [
      "the mean absolute error for training data is 101.19\n",
      "the mean absolute error for testing data is 111.38\n"
     ]
    },
    {
     "name": "stderr",
     "output_type": "stream",
     "text": [
      "C:\\Users\\Ian Johnston\\Anaconda3\\envs\\MSE1065\\lib\\site-packages\\sklearn\\neural_network\\_multilayer_perceptron.py:571: ConvergenceWarning: Stochastic Optimizer: Maximum iterations (200) reached and the optimization hasn't converged yet.\n",
      "  % self.max_iter, ConvergenceWarning)\n"
     ]
    }
   ],
   "source": [
    "#define model\n",
    "\n",
    "reg = MLPRegressor(hidden_layer_sizes= (100, 100), \\\n",
    "                   activation= 'tanh').fit(X_train, y_train)\n",
    "#get train predictions\n",
    "y_train_prediction = reg.predict(X_train)\n",
    "\n",
    "print('the mean absolute error for training data is %0.2f' % mean_absolute_error(y_train, y_train_prediction))\n",
    "\n",
    "#get train predictions\n",
    "y_test_prediction = reg.predict(X_test)\n",
    "\n",
    "print('the mean absolute error for testing data is %0.2f' % mean_absolute_error(y_test, y_test_prediction))\n",
    "\n"
   ]
  },
  {
   "cell_type": "markdown",
   "metadata": {},
   "source": [
    "### comment\n",
    "\n",
    "The 'rehu' function only activates the neuron if the value is greater than 0, so it is deactivating the features for all values less than the mean - giving a less complex data set to fit. Conversely, the hyperbolic tanget function does not deactivate any neurons completely, meaning the model has to fit all data values, giving an increased error"
   ]
  },
  {
   "cell_type": "markdown",
   "metadata": {},
   "source": [
    "* <font color=blue> **Exercise 13.** A very important parameter during neural network training or for any optimization problem is the learning rate and maximum number of iterations. Sometimes, we get poor performance due to non-optimal setting of these hyperparameters. In this part of the lab, use the same neural network architecture as last cell. Change the maximum number of iterations to 1000 (default is 200). Fit a neural network with 2 layers each with 100 hidden units to the above training data, with tanh as activation function. Compute mean absolute error on both training and test set. Comment on your findings i.e. how MAE changed with maximum iterations. </font>"
   ]
  },
  {
   "cell_type": "code",
   "execution_count": 151,
   "metadata": {},
   "outputs": [
    {
     "name": "stdout",
     "output_type": "stream",
     "text": [
      "the mean absolute error for training data is 59.25\n",
      "the mean absolute error for testing data is 76.63\n"
     ]
    },
    {
     "name": "stderr",
     "output_type": "stream",
     "text": [
      "C:\\Users\\Ian Johnston\\Anaconda3\\envs\\MSE1065\\lib\\site-packages\\sklearn\\neural_network\\_multilayer_perceptron.py:571: ConvergenceWarning: Stochastic Optimizer: Maximum iterations (1000) reached and the optimization hasn't converged yet.\n",
      "  % self.max_iter, ConvergenceWarning)\n"
     ]
    }
   ],
   "source": [
    "#define model\n",
    "\n",
    "reg = MLPRegressor(hidden_layer_sizes= (100, 100), \\\n",
    "                   activation= 'tanh', \\\n",
    "                  max_iter = 1000).fit(X_train, y_train)\n",
    "#get train predictions\n",
    "y_train_prediction = reg.predict(X_train)\n",
    "\n",
    "print('the mean absolute error for training data is %0.2f' % mean_absolute_error(y_train, y_train_prediction))\n",
    "\n",
    "#get train predictions\n",
    "y_test_prediction = reg.predict(X_test)\n",
    "\n",
    "print('the mean absolute error for testing data is %0.2f' % mean_absolute_error(y_test, y_test_prediction))\n",
    "\n"
   ]
  },
  {
   "cell_type": "markdown",
   "metadata": {},
   "source": [
    "### comment\n",
    "\n",
    "Increasing the max number of itterations gives the model more opportunities to fit the data, likely improving the fit. This is seen in the lower MAE values compared to the equivalent model with only 200 itterations. The cost of this is computational time, but in this case it is negligable given the small data set."
   ]
  },
  {
   "cell_type": "markdown",
   "metadata": {},
   "source": [
    "* <font color=blue> **Exercise 14.** We used SKLearn 's neural network class to fit five different neural networks. In this part, go through the documentation and change different parameters and report the lowest MAE on test set you achieved on this dataset. You can also monitor n_iter_ output of the neural network and see which optimization algorithm resulted in lowest number of iterations.</font>"
   ]
  },
  {
   "cell_type": "code",
   "execution_count": 154,
   "metadata": {},
   "outputs": [
    {
     "name": "stderr",
     "output_type": "stream",
     "text": [
      "C:\\Users\\Ian Johnston\\Anaconda3\\envs\\MSE1065\\lib\\site-packages\\sklearn\\neural_network\\_multilayer_perceptron.py:571: ConvergenceWarning: Stochastic Optimizer: Maximum iterations (100) reached and the optimization hasn't converged yet.\n",
      "  % self.max_iter, ConvergenceWarning)\n"
     ]
    },
    {
     "name": "stdout",
     "output_type": "stream",
     "text": [
      "identity constant 100\n",
      "the mean absolute error for training data is 92.89\n",
      "the mean absolute error for testing data is 84.27\n"
     ]
    },
    {
     "name": "stderr",
     "output_type": "stream",
     "text": [
      "C:\\Users\\Ian Johnston\\Anaconda3\\envs\\MSE1065\\lib\\site-packages\\sklearn\\neural_network\\_multilayer_perceptron.py:571: ConvergenceWarning: Stochastic Optimizer: Maximum iterations (1000) reached and the optimization hasn't converged yet.\n",
      "  % self.max_iter, ConvergenceWarning)\n"
     ]
    },
    {
     "name": "stdout",
     "output_type": "stream",
     "text": [
      "identity constant 1000\n",
      "the mean absolute error for training data is 46.52\n",
      "the mean absolute error for testing data is 46.50\n",
      "identity constant 10000\n",
      "the mean absolute error for training data is 46.02\n",
      "the mean absolute error for testing data is 50.00\n",
      "identity invscaling 100\n",
      "the mean absolute error for training data is 91.85\n",
      "the mean absolute error for testing data is 81.97\n"
     ]
    },
    {
     "name": "stderr",
     "output_type": "stream",
     "text": [
      "C:\\Users\\Ian Johnston\\Anaconda3\\envs\\MSE1065\\lib\\site-packages\\sklearn\\neural_network\\_multilayer_perceptron.py:571: ConvergenceWarning: Stochastic Optimizer: Maximum iterations (100) reached and the optimization hasn't converged yet.\n",
      "  % self.max_iter, ConvergenceWarning)\n",
      "C:\\Users\\Ian Johnston\\Anaconda3\\envs\\MSE1065\\lib\\site-packages\\sklearn\\neural_network\\_multilayer_perceptron.py:571: ConvergenceWarning: Stochastic Optimizer: Maximum iterations (1000) reached and the optimization hasn't converged yet.\n",
      "  % self.max_iter, ConvergenceWarning)\n"
     ]
    },
    {
     "name": "stdout",
     "output_type": "stream",
     "text": [
      "identity invscaling 1000\n",
      "the mean absolute error for training data is 46.87\n",
      "the mean absolute error for testing data is 45.03\n",
      "identity invscaling 10000\n",
      "the mean absolute error for training data is 46.05\n",
      "the mean absolute error for testing data is 49.89\n",
      "identity adaptive 100\n",
      "the mean absolute error for training data is 90.78\n",
      "the mean absolute error for testing data is 82.92\n"
     ]
    },
    {
     "name": "stderr",
     "output_type": "stream",
     "text": [
      "C:\\Users\\Ian Johnston\\Anaconda3\\envs\\MSE1065\\lib\\site-packages\\sklearn\\neural_network\\_multilayer_perceptron.py:571: ConvergenceWarning: Stochastic Optimizer: Maximum iterations (100) reached and the optimization hasn't converged yet.\n",
      "  % self.max_iter, ConvergenceWarning)\n",
      "C:\\Users\\Ian Johnston\\Anaconda3\\envs\\MSE1065\\lib\\site-packages\\sklearn\\neural_network\\_multilayer_perceptron.py:571: ConvergenceWarning: Stochastic Optimizer: Maximum iterations (1000) reached and the optimization hasn't converged yet.\n",
      "  % self.max_iter, ConvergenceWarning)\n"
     ]
    },
    {
     "name": "stdout",
     "output_type": "stream",
     "text": [
      "identity adaptive 1000\n",
      "the mean absolute error for training data is 46.80\n",
      "the mean absolute error for testing data is 45.07\n",
      "identity adaptive 10000\n",
      "the mean absolute error for training data is 45.96\n",
      "the mean absolute error for testing data is 50.04\n",
      "logistic constant 100\n",
      "the mean absolute error for training data is 116.98\n",
      "the mean absolute error for testing data is 130.31\n"
     ]
    },
    {
     "name": "stderr",
     "output_type": "stream",
     "text": [
      "C:\\Users\\Ian Johnston\\Anaconda3\\envs\\MSE1065\\lib\\site-packages\\sklearn\\neural_network\\_multilayer_perceptron.py:571: ConvergenceWarning: Stochastic Optimizer: Maximum iterations (100) reached and the optimization hasn't converged yet.\n",
      "  % self.max_iter, ConvergenceWarning)\n",
      "C:\\Users\\Ian Johnston\\Anaconda3\\envs\\MSE1065\\lib\\site-packages\\sklearn\\neural_network\\_multilayer_perceptron.py:571: ConvergenceWarning: Stochastic Optimizer: Maximum iterations (1000) reached and the optimization hasn't converged yet.\n",
      "  % self.max_iter, ConvergenceWarning)\n"
     ]
    },
    {
     "name": "stdout",
     "output_type": "stream",
     "text": [
      "logistic constant 1000\n",
      "the mean absolute error for training data is 75.52\n",
      "the mean absolute error for testing data is 81.80\n"
     ]
    },
    {
     "name": "stderr",
     "output_type": "stream",
     "text": [
      "C:\\Users\\Ian Johnston\\Anaconda3\\envs\\MSE1065\\lib\\site-packages\\sklearn\\neural_network\\_multilayer_perceptron.py:571: ConvergenceWarning: Stochastic Optimizer: Maximum iterations (10000) reached and the optimization hasn't converged yet.\n",
      "  % self.max_iter, ConvergenceWarning)\n",
      "C:\\Users\\Ian Johnston\\Anaconda3\\envs\\MSE1065\\lib\\site-packages\\sklearn\\neural_network\\_multilayer_perceptron.py:571: ConvergenceWarning: Stochastic Optimizer: Maximum iterations (100) reached and the optimization hasn't converged yet.\n",
      "  % self.max_iter, ConvergenceWarning)\n"
     ]
    },
    {
     "name": "stdout",
     "output_type": "stream",
     "text": [
      "logistic constant 10000\n",
      "the mean absolute error for training data is 4.09\n",
      "the mean absolute error for testing data is 40.63\n",
      "logistic invscaling 100\n",
      "the mean absolute error for training data is 117.26\n",
      "the mean absolute error for testing data is 130.65\n"
     ]
    },
    {
     "name": "stderr",
     "output_type": "stream",
     "text": [
      "C:\\Users\\Ian Johnston\\Anaconda3\\envs\\MSE1065\\lib\\site-packages\\sklearn\\neural_network\\_multilayer_perceptron.py:571: ConvergenceWarning: Stochastic Optimizer: Maximum iterations (1000) reached and the optimization hasn't converged yet.\n",
      "  % self.max_iter, ConvergenceWarning)\n"
     ]
    },
    {
     "name": "stdout",
     "output_type": "stream",
     "text": [
      "logistic invscaling 1000\n",
      "the mean absolute error for training data is 77.18\n",
      "the mean absolute error for testing data is 81.82\n"
     ]
    },
    {
     "name": "stderr",
     "output_type": "stream",
     "text": [
      "C:\\Users\\Ian Johnston\\Anaconda3\\envs\\MSE1065\\lib\\site-packages\\sklearn\\neural_network\\_multilayer_perceptron.py:571: ConvergenceWarning: Stochastic Optimizer: Maximum iterations (10000) reached and the optimization hasn't converged yet.\n",
      "  % self.max_iter, ConvergenceWarning)\n",
      "C:\\Users\\Ian Johnston\\Anaconda3\\envs\\MSE1065\\lib\\site-packages\\sklearn\\neural_network\\_multilayer_perceptron.py:571: ConvergenceWarning: Stochastic Optimizer: Maximum iterations (100) reached and the optimization hasn't converged yet.\n",
      "  % self.max_iter, ConvergenceWarning)\n"
     ]
    },
    {
     "name": "stdout",
     "output_type": "stream",
     "text": [
      "logistic invscaling 10000\n",
      "the mean absolute error for training data is 19.09\n",
      "the mean absolute error for testing data is 51.81\n",
      "logistic adaptive 100\n",
      "the mean absolute error for training data is 115.65\n",
      "the mean absolute error for testing data is 128.63\n"
     ]
    },
    {
     "name": "stderr",
     "output_type": "stream",
     "text": [
      "C:\\Users\\Ian Johnston\\Anaconda3\\envs\\MSE1065\\lib\\site-packages\\sklearn\\neural_network\\_multilayer_perceptron.py:571: ConvergenceWarning: Stochastic Optimizer: Maximum iterations (1000) reached and the optimization hasn't converged yet.\n",
      "  % self.max_iter, ConvergenceWarning)\n"
     ]
    },
    {
     "name": "stdout",
     "output_type": "stream",
     "text": [
      "logistic adaptive 1000\n",
      "the mean absolute error for training data is 75.86\n",
      "the mean absolute error for testing data is 81.71\n"
     ]
    },
    {
     "name": "stderr",
     "output_type": "stream",
     "text": [
      "C:\\Users\\Ian Johnston\\Anaconda3\\envs\\MSE1065\\lib\\site-packages\\sklearn\\neural_network\\_multilayer_perceptron.py:571: ConvergenceWarning: Stochastic Optimizer: Maximum iterations (10000) reached and the optimization hasn't converged yet.\n",
      "  % self.max_iter, ConvergenceWarning)\n",
      "C:\\Users\\Ian Johnston\\Anaconda3\\envs\\MSE1065\\lib\\site-packages\\sklearn\\neural_network\\_multilayer_perceptron.py:571: ConvergenceWarning: Stochastic Optimizer: Maximum iterations (100) reached and the optimization hasn't converged yet.\n",
      "  % self.max_iter, ConvergenceWarning)\n"
     ]
    },
    {
     "name": "stdout",
     "output_type": "stream",
     "text": [
      "logistic adaptive 10000\n",
      "the mean absolute error for training data is 6.69\n",
      "the mean absolute error for testing data is 74.36\n",
      "tanh constant 100\n",
      "the mean absolute error for training data is 113.89\n",
      "the mean absolute error for testing data is 124.72\n"
     ]
    },
    {
     "name": "stderr",
     "output_type": "stream",
     "text": [
      "C:\\Users\\Ian Johnston\\Anaconda3\\envs\\MSE1065\\lib\\site-packages\\sklearn\\neural_network\\_multilayer_perceptron.py:571: ConvergenceWarning: Stochastic Optimizer: Maximum iterations (1000) reached and the optimization hasn't converged yet.\n",
      "  % self.max_iter, ConvergenceWarning)\n"
     ]
    },
    {
     "name": "stdout",
     "output_type": "stream",
     "text": [
      "tanh constant 1000\n",
      "the mean absolute error for training data is 59.12\n",
      "the mean absolute error for testing data is 77.75\n"
     ]
    },
    {
     "name": "stderr",
     "output_type": "stream",
     "text": [
      "C:\\Users\\Ian Johnston\\Anaconda3\\envs\\MSE1065\\lib\\site-packages\\sklearn\\neural_network\\_multilayer_perceptron.py:571: ConvergenceWarning: Stochastic Optimizer: Maximum iterations (10000) reached and the optimization hasn't converged yet.\n",
      "  % self.max_iter, ConvergenceWarning)\n",
      "C:\\Users\\Ian Johnston\\Anaconda3\\envs\\MSE1065\\lib\\site-packages\\sklearn\\neural_network\\_multilayer_perceptron.py:571: ConvergenceWarning: Stochastic Optimizer: Maximum iterations (100) reached and the optimization hasn't converged yet.\n",
      "  % self.max_iter, ConvergenceWarning)\n"
     ]
    },
    {
     "name": "stdout",
     "output_type": "stream",
     "text": [
      "tanh constant 10000\n",
      "the mean absolute error for training data is 0.36\n",
      "the mean absolute error for testing data is 39.76\n",
      "tanh invscaling 100\n",
      "the mean absolute error for training data is 113.22\n",
      "the mean absolute error for testing data is 122.68\n"
     ]
    },
    {
     "name": "stderr",
     "output_type": "stream",
     "text": [
      "C:\\Users\\Ian Johnston\\Anaconda3\\envs\\MSE1065\\lib\\site-packages\\sklearn\\neural_network\\_multilayer_perceptron.py:571: ConvergenceWarning: Stochastic Optimizer: Maximum iterations (1000) reached and the optimization hasn't converged yet.\n",
      "  % self.max_iter, ConvergenceWarning)\n"
     ]
    },
    {
     "name": "stdout",
     "output_type": "stream",
     "text": [
      "tanh invscaling 1000\n",
      "the mean absolute error for training data is 59.41\n",
      "the mean absolute error for testing data is 77.35\n"
     ]
    },
    {
     "name": "stderr",
     "output_type": "stream",
     "text": [
      "C:\\Users\\Ian Johnston\\Anaconda3\\envs\\MSE1065\\lib\\site-packages\\sklearn\\neural_network\\_multilayer_perceptron.py:571: ConvergenceWarning: Stochastic Optimizer: Maximum iterations (10000) reached and the optimization hasn't converged yet.\n",
      "  % self.max_iter, ConvergenceWarning)\n",
      "C:\\Users\\Ian Johnston\\Anaconda3\\envs\\MSE1065\\lib\\site-packages\\sklearn\\neural_network\\_multilayer_perceptron.py:571: ConvergenceWarning: Stochastic Optimizer: Maximum iterations (100) reached and the optimization hasn't converged yet.\n",
      "  % self.max_iter, ConvergenceWarning)\n"
     ]
    },
    {
     "name": "stdout",
     "output_type": "stream",
     "text": [
      "tanh invscaling 10000\n",
      "the mean absolute error for training data is 0.37\n",
      "the mean absolute error for testing data is 49.72\n",
      "tanh adaptive 100\n",
      "the mean absolute error for training data is 114.26\n",
      "the mean absolute error for testing data is 125.09\n"
     ]
    },
    {
     "name": "stderr",
     "output_type": "stream",
     "text": [
      "C:\\Users\\Ian Johnston\\Anaconda3\\envs\\MSE1065\\lib\\site-packages\\sklearn\\neural_network\\_multilayer_perceptron.py:571: ConvergenceWarning: Stochastic Optimizer: Maximum iterations (1000) reached and the optimization hasn't converged yet.\n",
      "  % self.max_iter, ConvergenceWarning)\n"
     ]
    },
    {
     "name": "stdout",
     "output_type": "stream",
     "text": [
      "tanh adaptive 1000\n",
      "the mean absolute error for training data is 59.19\n",
      "the mean absolute error for testing data is 76.81\n"
     ]
    },
    {
     "name": "stderr",
     "output_type": "stream",
     "text": [
      "C:\\Users\\Ian Johnston\\Anaconda3\\envs\\MSE1065\\lib\\site-packages\\sklearn\\neural_network\\_multilayer_perceptron.py:571: ConvergenceWarning: Stochastic Optimizer: Maximum iterations (10000) reached and the optimization hasn't converged yet.\n",
      "  % self.max_iter, ConvergenceWarning)\n",
      "C:\\Users\\Ian Johnston\\Anaconda3\\envs\\MSE1065\\lib\\site-packages\\sklearn\\neural_network\\_multilayer_perceptron.py:571: ConvergenceWarning: Stochastic Optimizer: Maximum iterations (100) reached and the optimization hasn't converged yet.\n",
      "  % self.max_iter, ConvergenceWarning)\n"
     ]
    },
    {
     "name": "stdout",
     "output_type": "stream",
     "text": [
      "tanh adaptive 10000\n",
      "the mean absolute error for training data is 0.82\n",
      "the mean absolute error for testing data is 64.21\n",
      "relu constant 100\n",
      "the mean absolute error for training data is 59.84\n",
      "the mean absolute error for testing data is 57.03\n"
     ]
    },
    {
     "name": "stderr",
     "output_type": "stream",
     "text": [
      "C:\\Users\\Ian Johnston\\Anaconda3\\envs\\MSE1065\\lib\\site-packages\\sklearn\\neural_network\\_multilayer_perceptron.py:571: ConvergenceWarning: Stochastic Optimizer: Maximum iterations (1000) reached and the optimization hasn't converged yet.\n",
      "  % self.max_iter, ConvergenceWarning)\n"
     ]
    },
    {
     "name": "stdout",
     "output_type": "stream",
     "text": [
      "relu constant 1000\n",
      "the mean absolute error for training data is 10.34\n",
      "the mean absolute error for testing data is 46.75\n",
      "relu constant 10000\n",
      "the mean absolute error for training data is 0.05\n",
      "the mean absolute error for testing data is 32.89\n"
     ]
    },
    {
     "name": "stderr",
     "output_type": "stream",
     "text": [
      "C:\\Users\\Ian Johnston\\Anaconda3\\envs\\MSE1065\\lib\\site-packages\\sklearn\\neural_network\\_multilayer_perceptron.py:571: ConvergenceWarning: Stochastic Optimizer: Maximum iterations (100) reached and the optimization hasn't converged yet.\n",
      "  % self.max_iter, ConvergenceWarning)\n"
     ]
    },
    {
     "name": "stdout",
     "output_type": "stream",
     "text": [
      "relu invscaling 100\n",
      "the mean absolute error for training data is 59.78\n",
      "the mean absolute error for testing data is 55.87\n"
     ]
    },
    {
     "name": "stderr",
     "output_type": "stream",
     "text": [
      "C:\\Users\\Ian Johnston\\Anaconda3\\envs\\MSE1065\\lib\\site-packages\\sklearn\\neural_network\\_multilayer_perceptron.py:571: ConvergenceWarning: Stochastic Optimizer: Maximum iterations (1000) reached and the optimization hasn't converged yet.\n",
      "  % self.max_iter, ConvergenceWarning)\n"
     ]
    },
    {
     "name": "stdout",
     "output_type": "stream",
     "text": [
      "relu invscaling 1000\n",
      "the mean absolute error for training data is 10.66\n",
      "the mean absolute error for testing data is 39.21\n",
      "relu invscaling 10000\n",
      "the mean absolute error for training data is 0.06\n",
      "the mean absolute error for testing data is 54.77\n",
      "relu adaptive 100\n",
      "the mean absolute error for training data is 50.84\n",
      "the mean absolute error for testing data is 48.58\n"
     ]
    },
    {
     "name": "stderr",
     "output_type": "stream",
     "text": [
      "C:\\Users\\Ian Johnston\\Anaconda3\\envs\\MSE1065\\lib\\site-packages\\sklearn\\neural_network\\_multilayer_perceptron.py:571: ConvergenceWarning: Stochastic Optimizer: Maximum iterations (100) reached and the optimization hasn't converged yet.\n",
      "  % self.max_iter, ConvergenceWarning)\n",
      "C:\\Users\\Ian Johnston\\Anaconda3\\envs\\MSE1065\\lib\\site-packages\\sklearn\\neural_network\\_multilayer_perceptron.py:571: ConvergenceWarning: Stochastic Optimizer: Maximum iterations (1000) reached and the optimization hasn't converged yet.\n",
      "  % self.max_iter, ConvergenceWarning)\n"
     ]
    },
    {
     "name": "stdout",
     "output_type": "stream",
     "text": [
      "relu adaptive 1000\n",
      "the mean absolute error for training data is 13.62\n",
      "the mean absolute error for testing data is 42.86\n",
      "relu adaptive 10000\n",
      "the mean absolute error for training data is 0.06\n",
      "the mean absolute error for testing data is 57.63\n"
     ]
    }
   ],
   "source": [
    "activation_funcs = ['identity', 'logistic', 'tanh', 'relu']\n",
    "learning_rates = ['constant', 'invscaling', 'adaptive']\n",
    "max_iters = [100, 1000, 10000]\n",
    "\n",
    "for funcs in activation_funcs:\n",
    "    for rates in learning_rates:\n",
    "        for n in max_iters:\n",
    "\n",
    "            #define model\n",
    "            reg = MLPRegressor(hidden_layer_sizes= (100, 100), \\\n",
    "                               activation= funcs, \\\n",
    "                              max_iter = n, \\\n",
    "                              learning_rate= rates).fit(X_train, y_train)\n",
    "            #get train predictions\n",
    "            y_train_prediction = reg.predict(X_train)\n",
    "            y_test_prediction = reg.predict(X_test)\n",
    "\n",
    "            print(funcs, rates, n)\n",
    "            \n",
    "            print('the mean absolute error for training data is %0.2f' % mean_absolute_error(y_train, y_train_prediction))\n",
    "            #get train predictions\n",
    "            print('the mean absolute error for testing data is %0.2f' % mean_absolute_error(y_test, y_test_prediction))\n"
   ]
  },
  {
   "cell_type": "code",
   "execution_count": null,
   "metadata": {},
   "outputs": [],
   "source": []
  }
 ],
 "metadata": {
  "kernelspec": {
   "display_name": "Python 3",
   "language": "python",
   "name": "python3"
  },
  "language_info": {
   "codemirror_mode": {
    "name": "ipython",
    "version": 3
   },
   "file_extension": ".py",
   "mimetype": "text/x-python",
   "name": "python",
   "nbconvert_exporter": "python",
   "pygments_lexer": "ipython3",
   "version": "3.7.3"
  }
 },
 "nbformat": 4,
 "nbformat_minor": 4
}
